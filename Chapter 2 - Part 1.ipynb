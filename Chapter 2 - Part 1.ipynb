{
 "cells": [
  {
   "cell_type": "code",
   "execution_count": 2,
   "id": "39de58fb-d582-4a42-a9ed-c0079853c3c9",
   "metadata": {
    "scrolled": true
   },
   "outputs": [
    {
     "name": "stdin",
     "output_type": "stream",
     "text": [
      "Enter your string: h\n"
     ]
    },
    {
     "name": "stdout",
     "output_type": "stream",
     "text": [
      "A Upper String is: H\n",
      "A Lower String is : h\n",
      "A Title String is : H\n"
     ]
    }
   ],
   "source": [
    "\"\"\"\n",
    "Bài 1. Viết chương trình nhập vào một chuỗi\n",
    "Xuất ra màn hình chuỗi ký tự hoa\n",
    "Xuất ra màn hình chuỗi ký tự có ký tự đầu là ký tự hoa\n",
    "Xuất ra màn hình chuỗi ký tự thường\n",
    "\"\"\"\n",
    "st = input(\"Enter your string:\")\n",
    " st_upper = st.upper()\n",
    " st_lower = st.lower()\n",
    " st_title = st.title()\n",
    " print(\"A Upper String is: \" + st_upper)\n",
    " print(\"A Lower String is : \" + st_lower)\n",
    " print(\"A Title String is : \" + st_title)"
   ]
  },
  {
   "cell_type": "code",
   "execution_count": 6,
   "id": "46b70b28-a0ac-4729-b1b7-219f0e05254a",
   "metadata": {},
   "outputs": [
    {
     "name": "stdout",
     "output_type": "stream",
     "text": [
      "gmail.com\n"
     ]
    }
   ],
   "source": [
    "\"\"\"\n",
    "Bài 2. Cho chuỗi biểu diễn địa chỉ email:   \"•minhnhutvh@gmail.com\"\n",
    "Rút trích và hiển thị chuỗi \"gmail.com\" (Đây chính là  tên Host)\n",
    "\"\"\"\n",
    "data = \"minhnhutvh@gmail.com\"\n",
    "position = data.find(\"@\")            \n",
    "host = data[position +1 :]\n",
    "print(host)"
   ]
  },
  {
   "cell_type": "code",
   "execution_count": 7,
   "id": "322caf1f-8796-473f-91fe-47205e847fd2",
   "metadata": {},
   "outputs": [
    {
     "name": "stdout",
     "output_type": "stream",
     "text": [
      "gmail.com\n"
     ]
    }
   ],
   "source": [
    "\"\"\"\n",
    "Bài 3. Cho chuỗi biểu diễn:  ‘minhnhutvh@gmai.com•Sat•Jan•5•09:14:16’\n",
    "Rút trích và hiển thị chuỗi “gmail.com”\n",
    "\"\"\"\n",
    "data = 'minhnhutvh@gmail.com Sat Jan 5 09:14:16'\n",
    "Start_position = data.find(\"@\")\n",
    "End_position = data.find(\" \")\n",
    "host = data[Start_position +1: End_position]\n",
    "print(host)"
   ]
  },
  {
   "cell_type": "code",
   "execution_count": 8,
   "id": "e578caea-5759-41ab-b620-9e24f3676cc7",
   "metadata": {},
   "outputs": [
    {
     "name": "stdin",
     "output_type": "stream",
     "text": [
      " HuannLee\n",
      " nn\n",
      " n\n"
     ]
    },
    {
     "name": "stdout",
     "output_type": "stream",
     "text": [
      "HuanLee\n"
     ]
    }
   ],
   "source": [
    "\"\"\"\n",
    "Bài 4: Viết một chương trình thay thế một từ trong chuỗi. Yêu cầu: \n",
    "Nhập vào một chuỗi \n",
    "Nhập vào một từ cần thay thế và một từ thay thế. \n",
    "Sau đó, hiển thị kết quả ra màn hình.\n",
    "\"\"\"\n",
    "st1 = input()\n",
    "st2 = input()\n",
    "st3 = input()\n",
    "\n",
    "st1 = st1.replace(st2,st3)\n",
    "print(st1)\n"
   ]
  },
  {
   "cell_type": "code",
   "execution_count": 13,
   "id": "bd9ce74c-1018-4b6b-b304-87275e1329ef",
   "metadata": {},
   "outputs": [
    {
     "name": "stdin",
     "output_type": "stream",
     "text": [
      " HuannLee\n"
     ]
    },
    {
     "name": "stdout",
     "output_type": "stream",
     "text": [
      "First five characters are: Huann\n",
      "Last five characters are: nnLee\n",
      "Four strings of one line are: HuannLee HuannLee HuannLee HuannLee \n",
      "Four strings of four line are: \n",
      "HuannLee\n",
      "HuannLee\n",
      "HuannLee\n",
      "HuannLee\n",
      "\n"
     ]
    }
   ],
   "source": [
    "\"\"\"\n",
    "Bài 5: Viết một chương trình nhập vào 1 chuỗi. Sau đó, xuất ra màn hình: \n",
    "5 ký tự cuối cùng; 5 ký tự đầu tiên. \n",
    "4 chuỗi trên một dòng cách 1 khoảng trắng.\n",
    "4 chuỗi trên 4 dòng.\n",
    "\"\"\"\n",
    "st = input()\n",
    "First_five_characters = st[:5]\n",
    "Last_five_characters = st[len(st)-5:]\n",
    "_4_Str_1_line = 4 * (st + \" \")\n",
    "_4_Str_4_line = 4 * (st+ \"\\n\")\n",
    "\n",
    "print(\"First five characters are: \" + First_five_characters)\n",
    "print(\"Last five characters are: \" + Last_five_characters)\n",
    "print(\"Four strings of one line are: \" + _4_Str_1_line)\n",
    "print(\"Four strings of four line are: \\n\" + _4_Str_4_line)"
   ]
  },
  {
   "cell_type": "code",
   "execution_count": 18,
   "id": "5b7943f0-22b3-4adc-a268-889fca2bba83",
   "metadata": {},
   "outputs": [
    {
     "name": "stdin",
     "output_type": "stream",
     "text": [
      " 3\n",
      " 6\n"
     ]
    },
    {
     "name": "stdout",
     "output_type": "stream",
     "text": [
      "169.64600329384882\n"
     ]
    }
   ],
   "source": [
    "\"\"\"\n",
    "Bài 6: Viết chương trình tính thể tích hình trụ V = πr2h với r là bán kính của mặt đáy, h là chiều cao của hình trụ, và π là hằng số pi. Với r và h nhập vào từ bàn phím.\n",
    "\"\"\"\n",
    "from math import *\n",
    "r = int(input())\n",
    "h = int(input())\n",
    "V = pi*r**2*h\n",
    "print(V)"
   ]
  },
  {
   "cell_type": "code",
   "execution_count": 5,
   "id": "5892a519-614a-4147-aa91-b5f94b377c49",
   "metadata": {},
   "outputs": [
    {
     "name": "stdin",
     "output_type": "stream",
     "text": [
      "Enter edge a:  7\n",
      "Enter edge b:  7\n",
      "Enter edge c:  7\n",
      "Enter angle A:  pi/3\n"
     ]
    },
    {
     "ename": "ValueError",
     "evalue": "could not convert string to float: 'pi/3'",
     "output_type": "error",
     "traceback": [
      "\u001b[1;31m---------------------------------------------------------------------------\u001b[0m",
      "\u001b[1;31mValueError\u001b[0m                                Traceback (most recent call last)",
      "Cell \u001b[1;32mIn[5], line 10\u001b[0m\n\u001b[0;32m      7\u001b[0m b \u001b[38;5;241m=\u001b[39m \u001b[38;5;28mfloat\u001b[39m(\u001b[38;5;28minput\u001b[39m(\u001b[38;5;124m\"\u001b[39m\u001b[38;5;124mEnter edge b: \u001b[39m\u001b[38;5;124m\"\u001b[39m))\n\u001b[0;32m      8\u001b[0m c \u001b[38;5;241m=\u001b[39m \u001b[38;5;28mfloat\u001b[39m(\u001b[38;5;28minput\u001b[39m(\u001b[38;5;124m\"\u001b[39m\u001b[38;5;124mEnter edge c: \u001b[39m\u001b[38;5;124m\"\u001b[39m))\n\u001b[1;32m---> 10\u001b[0m A \u001b[38;5;241m=\u001b[39m \u001b[38;5;28mfloat\u001b[39m(\u001b[38;5;28minput\u001b[39m(\u001b[38;5;124m\"\u001b[39m\u001b[38;5;124mEnter angle A: \u001b[39m\u001b[38;5;124m\"\u001b[39m))\n\u001b[0;32m     11\u001b[0m B \u001b[38;5;241m=\u001b[39m \u001b[38;5;28mfloat\u001b[39m(\u001b[38;5;28minput\u001b[39m(\u001b[38;5;124m\"\u001b[39m\u001b[38;5;124mEnter angle B: \u001b[39m\u001b[38;5;124m\"\u001b[39m))\n\u001b[0;32m     12\u001b[0m C \u001b[38;5;241m=\u001b[39m \u001b[38;5;28mfloat\u001b[39m(\u001b[38;5;28minput\u001b[39m(\u001b[38;5;124m\"\u001b[39m\u001b[38;5;124mEnter angle C: \u001b[39m\u001b[38;5;124m\"\u001b[39m))\n",
      "\u001b[1;31mValueError\u001b[0m: could not convert string to float: 'pi/3'"
     ]
    }
   ],
   "source": [
    "\"\"\"\n",
    "Bài 7: Viết chương trình tính diện tích tam giác theo công thức. Yêu cầu nhập vào 3 cạnh và các góc A,B và C (radian)\n",
    "S = (a*b*SinC)/2 = (a*c*SinB)/2 = (b*c*sinA)/2\n",
    "\"\"\"\n",
    "from math import *\n",
    "a = float(input(\"Enter edge a: \"))\n",
    "b = float(input(\"Enter edge b: \"))\n",
    "c = float(input(\"Enter edge c: \"))\n",
    "\n",
    "A = float(input(\"Enter angle A: \"))\n",
    "B = float(input(\"Enter angle B: \"))\n",
    "C = float(input(\"Enter angle C: \"))\n",
    "\n",
    "s1 = (a * b * sin(C)) / 2\n",
    "s2 = (a * c * sin(B)) / 2\n",
    "s3 = (b * c * sin(A)) / 2\n",
    "\n",
    "print(\"s1 = \",s1)\n",
    "print(\"s2 = \",s2)\n",
    "print(\"s3 = \",s3)"
   ]
  },
  {
   "cell_type": "code",
   "execution_count": 3,
   "id": "e1be357f-c010-4635-a2b0-134fe5cfbf89",
   "metadata": {},
   "outputs": [
    {
     "name": "stdin",
     "output_type": "stream",
     "text": [
      "Enter edge of equilateral triangle 7\n"
     ]
    },
    {
     "name": "stdout",
     "output_type": "stream",
     "text": [
      "Area of equilateral triangle =  21.217622392718745\n"
     ]
    }
   ],
   "source": [
    "\"\"\"\n",
    "Bài 8: Viết chương trình tính diện tích tam giác đều theo định lý Heron. Yêu cầu nhập vào cạnh tam giác đều.\n",
    "S = (a**2*(sqrt(3)))/4\n",
    "\"\"\"\n",
    "from math import *\n",
    "a = float(input(\"Enter edge of equilateral triangle\"))\n",
    "S = (a**2 * sqrt(3)) / 4\n",
    "print(\"Area of equilateral triangle = \",S)"
   ]
  },
  {
   "cell_type": "code",
   "execution_count": 8,
   "id": "df6a3bb5-357d-4e5e-a1c6-5b28b4d1f3ce",
   "metadata": {},
   "outputs": [
    {
     "name": "stdin",
     "output_type": "stream",
     "text": [
      "Enter edge of equilateral triangle 7\n"
     ]
    },
    {
     "name": "stdout",
     "output_type": "stream",
     "text": [
      "Area of S1 =  21.217622392718745\n",
      "Area of S2 =  21.217622392718745\n",
      "They are equal\n"
     ]
    }
   ],
   "source": [
    "\"\"\"\n",
    "Bài 9: Chạy chương trình Bài 7, nhập giá trị cho trường hợp tam giác đều (lưu ý: giá trị cạnh tam giác = giá trị cạnh tam giác Bài 8). Đánh giá kết quả khi chạy chương trình Bài 7 và Bài 8\n",
    "\"\"\"\n",
    "from math import *\n",
    "a = float(input(\"Enter edge of equilateral triangle\")) \n",
    "S1 = (a * a * sqrt(3) / 2) /2  #Bài 7\n",
    "S2 = (a**2 * sqrt(3)) / 4  #Bài 8\n",
    "print(\"Area of S1 = \",S1)\n",
    "print(\"Area of S2 = \",S2)\n",
    "print(\"They are equal\")"
   ]
  },
  {
   "cell_type": "code",
   "execution_count": 9,
   "id": "4e935b3f-b46f-4775-8fe3-76f1d8cd1ca8",
   "metadata": {},
   "outputs": [
    {
     "name": "stdin",
     "output_type": "stream",
     "text": [
      "Enter length of the room :  9\n",
      "Enter width of the room :  7\n"
     ]
    },
    {
     "name": "stdout",
     "output_type": "stream",
     "text": [
      "Area of the room :  63.0\n"
     ]
    }
   ],
   "source": [
    "\"\"\"\n",
    "Bài 10: Viết chương trình yêu cầu người dùng nhập chiều rộng và chiều dài của một căn phòng. Chiều dài và chiều rộng sẽ hiển thị kiểu số dấu phẩy động. Hiển thị diện tích căn phòng. \n",
    "\"\"\"\n",
    "length = float(input(\"Enter length of the room : \"))\n",
    "width = float(input(\"Enter width of the room : \"))\n",
    "S = length * width\n",
    "print(\"Area of the room : \",S)"
   ]
  },
  {
   "cell_type": "code",
   "execution_count": 11,
   "id": "f9ab545e-23e3-42c9-8562-769ac821c802",
   "metadata": {},
   "outputs": [
    {
     "name": "stdin",
     "output_type": "stream",
     "text": [
      "Enter length of the field :  7\n",
      "Enter width of the field :  8\n"
     ]
    },
    {
     "name": "stdout",
     "output_type": "stream",
     "text": [
      "Area of the field :  0.0012855831037649219  Mẫu Anh\n"
     ]
    }
   ],
   "source": [
    "\"\"\"\n",
    "Bài 11: Viết chương trình đọc chiều dài và chiều rộng của một cánh đồng từ người dùng. Hiển thị diện tích của cánh đồng theo theo đơn vị tính là Mẫu Anh. Gợi ý: Một Mẫu Anh bằng 43.560 met vuông.\n",
    "\"\"\"\n",
    "length = float(input(\"Enter length of the field : \"))\n",
    "width = float(input(\"Enter width of the field : \"))\n",
    "S1 = length * width\n",
    "S2 = S1 / 43560\n",
    "print(\"Area of the field : \",S2,\" Mẫu Anh\")"
   ]
  },
  {
   "cell_type": "code",
   "execution_count": 18,
   "id": "892f6cbc-170f-4f0d-8140-e08a36460b87",
   "metadata": {},
   "outputs": [
    {
     "name": "stdin",
     "output_type": "stream",
     "text": [
      "Enter the cost of a meal :  7\n"
     ]
    },
    {
     "name": "stdout",
     "output_type": "stream",
     "text": [
      "The cost of a meal = 7.00\n",
      "Tips = 1.26\n",
      "Tax = 0.35\n",
      "Total = 8.61\n"
     ]
    }
   ],
   "source": [
    "\"\"\"\n",
    "Bài 12: Viết chương trình nhập chi phí của một bữa ăn tại nhà hàng từ người dùng. Chương trình sẽ tính thuế và tiền boa cho bữa ăn. Trong đó, tiền boa là 18% số tiền bữa ăn (không có thuế); tiền thuế là 5% số tiền bữa ăn. Đầu ra của chương trình là tổng tiền, gồm: thuế, số tiền boa và tiền bữa ăn. Định dạng đầu ra sao cho tất cả các giá trị được hiển thị bằng hai con số thập phân\n",
    "\"\"\"\n",
    "a = float(input(\"Enter the cost of a meal : \"))\n",
    "tips = a * 18/100\n",
    "tax = a * 5/100\n",
    "total = a + tips + tax\n",
    "\n",
    "print(f\"The cost of a meal = {a:.2f}\")\n",
    "print(f\"Tips = {tips:.2f}\")\n",
    "print(f\"Tax = {tax:.2f}\")\n",
    "print(f\"Total = {total:.2f}\")\n"
   ]
  },
  {
   "cell_type": "code",
   "execution_count": 22,
   "id": "c549143e-0d4a-493f-b495-4db660b14b93",
   "metadata": {},
   "outputs": [
    {
     "name": "stdin",
     "output_type": "stream",
     "text": [
      "Enter a positive integers :  7\n"
     ]
    },
    {
     "name": "stdout",
     "output_type": "stream",
     "text": [
      "1 2 3 4 5 6 7 Sum =  28\n"
     ]
    }
   ],
   "source": [
    "\"\"\"\n",
    "Bài 13: Viết chương trình đọc một số nguyên dương n từ người dùng và sau đó hiển thị tổng của tất cả các số nguyên từ 1 đến n. Tổng của n số nguyên dương đầu tiên có thể được tính bằng công thức\n",
    "\"\"\"\n",
    "n = int(input(\"Enter a positive integers : \"))\n",
    "Sum = (n * (n + 1)) // 2\n",
    "for i in range(1,n+1):\n",
    " print(i, end=\" \")\n",
    "\n",
    "print(\"Sum = \",Sum)"
   ]
  },
  {
   "cell_type": "code",
   "execution_count": 23,
   "id": "807738f4-60cf-457a-bc24-6eb8750b15c7",
   "metadata": {},
   "outputs": [
    {
     "name": "stdin",
     "output_type": "stream",
     "text": [
      "Enter a 7\n",
      "Enter b 8\n"
     ]
    },
    {
     "name": "stdout",
     "output_type": "stream",
     "text": [
      "Sum of a and b : 15\n",
      "Difference of a and b : -1\n",
      "Product of a and b : 56\n",
      "Quotient of a and b : 0.875\n",
      "Surplus of a and b : 7\n",
      "Log10 of a : 0.8450980400142568\n",
      "a power of b : 5764801\n"
     ]
    }
   ],
   "source": [
    "\"\"\"\n",
    "Bài 14: Viết một chương trình đọc hai số nguyên a và b từ người dùng. Chương trình sẽ tính toán và hiển thị:\n",
    "Tổng của a và b\n",
    "Hiệu của a và b\n",
    "Tích của a và b\n",
    "Thương của a chia cho b\n",
    "Phần còn lại khi a được chia cho b\n",
    "Kết quả của log_10a\n",
    "Kết quả của a**b\n",
    "\"\"\"\n",
    "a = int(input(\"Enter a\"))\n",
    "b = int(input(\"Enter b\"))\n",
    "Sum = a + b\n",
    "Dif = a - b\n",
    "Prod = a * b\n",
    "Quo = a / b\n",
    "Sur = a%b\n",
    "Log = log10(a)\n",
    "Pow = a**b\n",
    "\n",
    "print(\"Sum of a and b :\",Sum)\n",
    "print(\"Difference of a and b :\",Dif)\n",
    "print(\"Product of a and b :\",Prod)\n",
    "print(\"Quotient of a and b :\",Quo)\n",
    "print(\"Surplus of a and b :\",Sur)\n",
    "print(\"Log10 of a :\",Log)\n",
    "print(\"a power of b :\",Pow)\n",
    "\n",
    "\n"
   ]
  },
  {
   "cell_type": "code",
   "execution_count": 25,
   "id": "44317071-de58-4557-b527-7fb05b3af546",
   "metadata": {},
   "outputs": [
    {
     "name": "stdin",
     "output_type": "stream",
     "text": [
      "Enter T :  10\n",
      "Enter M :  1000\n"
     ]
    },
    {
     "name": "stdout",
     "output_type": "stream",
     "text": [
      "Total energy required :  41860.0\n",
      "Cost of the water :  0.1034582458  cents\n"
     ]
    }
   ],
   "source": [
    "\"\"\"\n",
    "Bài 15: Năng lượng Q cần để thay đổi ΔT nhiệt độ (xét trường hợp ΔT > 0) của M gram nước  được tính bằng: Q = M × C × ΔT, trong đó ΔT có đơn vị là độ (độ Celsius), M có đơn vị gram và Q có đơn vị là Joules.  Viết chương trình theo yêu cầu:\n",
    "Đọc khối lượng của nước và sự thay đổi ΔT nhiệt độ từ người dùng. Chương trình sẽ hiển thị tổng năng lượng của nước khi thay đổi nhiệt độ mong muốn. \n",
    "Gợi ý: Nhiệt dung riêng của nước là 4.186 J/g◦C.\n",
    "Tính toán chi phí khi thay đổi ΔT nhiệt độ của nước, biết rằng: chi phí là 8,9 cent mỗi kilowatt giờ, 1 Joules = 2.777e-7 kWh.  Hãy tính chi phí để nước đạt nhiệt độ như yêu cầu.\n",
    "\"\"\"\n",
    "T = float(input(\"Enter T : \"))\n",
    "M = float(input(\"Enter M : \"))\n",
    "C = 4.186\n",
    "Q = M * C * T\n",
    "print(\"Total energy required : \",Q)\n",
    "Q_kwh = Q * 2.777e-7\n",
    "cost_water = 8.9 * Q_kwh \n",
    "print(\"Cost of the water : \",cost_water, \" cents\")"
   ]
  },
  {
   "cell_type": "code",
   "execution_count": 27,
   "id": "b9f97a42-275e-455b-801b-528e240b3828",
   "metadata": {},
   "outputs": [
    {
     "name": "stdin",
     "output_type": "stream",
     "text": [
      "Enter height :  50\n"
     ]
    },
    {
     "name": "stdout",
     "output_type": "stream",
     "text": [
      "Speed of an object when it hits the ground :  31.304951684997057 m/s\n"
     ]
    }
   ],
   "source": [
    "\"\"\"\n",
    "Bài 16: Viết một chương trình xác định tốc độ di chuyển của một vật khi nó chạm đất. Người dùng sẽ nhập chiều cao mà từ đó vật đó được thả (đơn vị tính mét (m)).\n",
    "Gợi ý: Sử dụng công thức v_f =sqrt(v_i^2 + 2ad)  để tính tốc độ cuối cùng, v_i tốc độ ban đầu, a là gia tốc trọng trường, và d là độ cao. Tốc độ ban đầu của một vật là 0 m/s,  gia tốc trọng trường là 9,8 m/s2.\n",
    "\"\"\"\n",
    "from math import *\n",
    "d = float(input(\"Enter height : \"))\n",
    "a , v_i = 9.8 , 0\n",
    "v_f = sqrt(v_i**2 + 2 * a * d)\n",
    "print(\"Speed of an object when it hits the ground : \",v_f, \"m/s\")"
   ]
  },
  {
   "cell_type": "code",
   "execution_count": 28,
   "id": "81cd8348-628f-49e5-b987-eef64314fc9c",
   "metadata": {},
   "outputs": [
    {
     "name": "stdin",
     "output_type": "stream",
     "text": [
      "Enter temperature :  38\n",
      "Enter the speed of the wind :  20\n"
     ]
    },
    {
     "name": "stdout",
     "output_type": "stream",
     "text": [
      "Wind chill index 43\n"
     ]
    }
   ],
   "source": [
    "\"\"\"\n",
    "Bài 17: Khi gió thổi trong thời tiết lạnh, làm cho không khí lạnh hơn so với thực tế. Nguyên nhân là do sự chuyển động của không khí làm tăng tốc độ làm mát cho các vật thể (chẳng hạn, như con người).\n",
    "Năm 2001, Canada, Vương quốc Anh và Hoa Kỳ đã áp dụng công thức sau đây để tính toán chỉ số gió lạnh: WCI = 13,12 + 0,6215Ta - 11,37V0.16 + 0,3965Ta V0.16\n",
    "Trong công thức Ta là nhiệt độ không khí tính bằng độ C và V là tốc độ gió tính bằng km/giờ.\n",
    "Viết chương trình đọc nhiệt độ không khí và tốc độ gió từ người dùng. Hiển thị chỉ số gió lạnh được làm tròn đến số nguyên gần nhất.\n",
    "\"\"\"\n",
    "Ta = int(input(\"Enter temperature : \"))\n",
    "V = float(input(\"Enter the speed of the wind : \"))\n",
    "WCI = 13.12 + 0.6215*Ta - 11.37*(V**0.16) + 0.3965*Ta*(V**0.16)\n",
    "WCI_rounded = round(WCI)\n",
    "print(\"Wind chill index\",WCI_rounded)"
   ]
  }
 ],
 "metadata": {
  "kernelspec": {
   "display_name": "Python 3 (ipykernel)",
   "language": "python",
   "name": "python3"
  },
  "language_info": {
   "codemirror_mode": {
    "name": "ipython",
    "version": 3
   },
   "file_extension": ".py",
   "mimetype": "text/x-python",
   "name": "python",
   "nbconvert_exporter": "python",
   "pygments_lexer": "ipython3",
   "version": "3.13.5"
  }
 },
 "nbformat": 4,
 "nbformat_minor": 5
}
