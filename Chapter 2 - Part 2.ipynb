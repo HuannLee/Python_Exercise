{
 "cells": [
  {
   "cell_type": "code",
   "execution_count": 3,
   "id": "0f7ca23b-d01a-480f-bb56-9cfd378d15f2",
   "metadata": {},
   "outputs": [
    {
     "name": "stdin",
     "output_type": "stream",
     "text": [
      "Enter a interger 7\n"
     ]
    },
    {
     "name": "stdout",
     "output_type": "stream",
     "text": [
      "This is an odd number\n"
     ]
    }
   ],
   "source": [
    "\"\"\"\n",
    "Bài 1. Viết một chương trình nhập vào một số nguyên dương. Nếu nó là số chẵn thì in ra chuỗi “Đây là số chẵn”, ngược lại thì in ra chuỗi “Đây là số lẻ”:\n",
    "\"\"\"\n",
    "a = int(input(\"Enter an interger\"))\n",
    "check_a = a % 2\n",
    "if check_a == 0:\n",
    "    print(\"This is an even number\")\n",
    "else:\n",
    "    print(\"This is an odd number\")"
   ]
  },
  {
   "cell_type": "code",
   "execution_count": 4,
   "id": "7ef65d30-de30-480d-ba6c-2933f2d13bc7",
   "metadata": {},
   "outputs": [
    {
     "name": "stdin",
     "output_type": "stream",
     "text": [
      "Enter a string:  Hello\n"
     ]
    },
    {
     "name": "stdout",
     "output_type": "stream",
     "text": [
      "This is mix of upper and lower character\n"
     ]
    }
   ],
   "source": [
    "\"\"\"\n",
    "Bài 2. Viết một chương trình kiểm tra một chuỗi nhập vào từ bàn phím: Chuỗi hoa; Chuỗi thường; Chuỗi chứa ký tự hoa và ký tự thường.\n",
    "\"\"\"\n",
    "a = input(\"Enter a string: \")\n",
    "if a.isupper():\n",
    "    print(\"This is an upper string\")\n",
    "elif a.islower():\n",
    "    print(\"This is an lower string\")\n",
    "else:\n",
    "    print(\"This is mix of upper and lower character\")"
   ]
  },
  {
   "cell_type": "code",
   "execution_count": 7,
   "id": "e41bf573-7be8-4912-9adf-529e0cc6f4d3",
   "metadata": {},
   "outputs": [
    {
     "name": "stdin",
     "output_type": "stream",
     "text": [
      "Enter a string :  Hello World \n",
      "Enter a string need search:  d\n"
     ]
    },
    {
     "name": "stdout",
     "output_type": "stream",
     "text": [
      "a searching string was found, at loaction : 10\n"
     ]
    }
   ],
   "source": [
    "\"\"\"\n",
    "Bài 3. Viết một chương trình kiểm tra một chuỗi có trong chuỗi khác. Yêu cầu:\n",
    "Nhập vào một chuỗi st\n",
    "Nhập vào chuỗi cần tìm st_search\n",
    "Nếu có thì in ra màn hình “Đã tìm thấy chuỗi cần tìm, tại vị trí: …”.\n",
    "\"\"\"\n",
    "st = input(\"Enter a string : \")\n",
    "st_search = input(\"Enter a string need search: \")\n",
    "if st_search in st:\n",
    "    print(\"a searching string was found, at loaction : \" + str(st.find(st_search)))\n",
    "else:\n",
    "    print(\"Not Found\")"
   ]
  },
  {
   "cell_type": "code",
   "execution_count": 6,
   "id": "5d3f8c9b-824d-4816-b566-8517f8e69018",
   "metadata": {},
   "outputs": [
    {
     "name": "stdin",
     "output_type": "stream",
     "text": [
      "Enter first number 2\n",
      "Enter second number 3\n",
      "Enter third number 4\n"
     ]
    },
    {
     "name": "stdout",
     "output_type": "stream",
     "text": [
      "The largest number is :  4\n"
     ]
    }
   ],
   "source": [
    "\"\"\"\n",
    "Bài 4. Viết chương trình in số lớn nhất của 3 số\n",
    "\"\"\"\n",
    "num_1 = int(input(\"Enter first number\"))\n",
    "num_2 = int(input(\"Enter second number\"))\n",
    "num_3 = int(input(\"Enter third number\"))\n",
    "\n",
    "largest = max(num_1, num_2, num_3)\n",
    "print(\"The largest number is : \",largest)"
   ]
  },
  {
   "cell_type": "code",
   "execution_count": 9,
   "id": "0812d108-8398-4655-9057-8f863b666fd6",
   "metadata": {},
   "outputs": [
    {
     "name": "stdin",
     "output_type": "stream",
     "text": [
      "Enter an interger greater than 0 :  7\n"
     ]
    },
    {
     "name": "stdout",
     "output_type": "stream",
     "text": [
      "The result of operation is :  5.2821428571428575\n"
     ]
    }
   ],
   "source": [
    "\"\"\"\n",
    "Bài 5: Viết một chương trình tính 1/2 + 2/3 + 3/4 + ... + n/(n + 1) với n là số nguyên được nhập vào (n> 0).\n",
    "\"\"\"\n",
    "n = int(input(\"Enter an interger greater than 0 : \"))\n",
    "S = 0.0\n",
    "for i in range(1,n+1):\n",
    "    S += i/(i+1)\n",
    "print(\"The result of operation is : \", S)"
   ]
  },
  {
   "cell_type": "code",
   "execution_count": 11,
   "id": "b6b236ad-0ac0-4ffb-b23a-37fd8027d2ff",
   "metadata": {},
   "outputs": [
    {
     "name": "stdin",
     "output_type": "stream",
     "text": [
      "Enter your sentence :  Hello World\n"
     ]
    },
    {
     "name": "stdout",
     "output_type": "stream",
     "text": [
      "Sum of upper character :  2\n",
      "Sum of lower character :  8\n"
     ]
    }
   ],
   "source": [
    "\"\"\"\n",
    "Bài 6: Viết một chương trình chấp nhận đầu vào là một câu, đếm số ký tự hoa, số ký tự thường. Giả sử đầu vào là: Quản Trị Mạng\n",
    "                   Thì đầu ra là: Chữ hoa: 3\n",
    "                                           Chữ thường: 8\n",
    "\"\"\"\n",
    "st = input(\"Enter your sentence : \")\n",
    "Count_upper_char = 0\n",
    "Count_lower_char = 0\n",
    "for c in st:\n",
    "    if c.isupper():\n",
    "        Count_upper_char += 1\n",
    "    elif c.islower():\n",
    "        Count_lower_char += 1\n",
    "    else:\n",
    "        pass\n",
    "print(\"Sum of upper character : \",Count_upper_char)\n",
    "print(\"Sum of lower character : \",Count_lower_char)\n"
   ]
  },
  {
   "cell_type": "code",
   "execution_count": 13,
   "id": "4f25b941-27d9-4c74-958d-61e2d4403ebc",
   "metadata": {},
   "outputs": [
    {
     "name": "stdin",
     "output_type": "stream",
     "text": [
      "Enter a number :  153\n"
     ]
    },
    {
     "name": "stdout",
     "output_type": "stream",
     "text": [
      "153  is Amstrong\n"
     ]
    }
   ],
   "source": [
    "\"\"\"\n",
    "Bài 7: Một số được gọi là số Amstrong bậc N, nếu nó là số nguyên dương và tổng bậc N của các các chữ số cấu thành thì bằng chính số đó.Ví dụ: \n",
    "           Số Amstrong bậc 4:  abcd = a4 + b4 + c4 + d4\n",
    "           Số Amstrong bậc N: abc….d  = aN + bN + cN + ….+ dN\n",
    "                Cụ thể: 153 = 1*1*1 + 5*5*5 + 3*3*3  nên 153 số Amstrong.\n",
    "Viết chương trình nhập vào 1 số, cho biết số đó có phải là số Amstrong hay không?\n",
    "\"\"\"\n",
    "num = int(input(\"Enter a number : \"))\n",
    "num_str = str(num) \n",
    "n = len(num_str) #level\n",
    "sum_pow = sum(int(digit) ** n for digit in num_str)\n",
    "\n",
    "if num == sum_pow:\n",
    "    print(num, \" is Amstrong\")\n",
    "else:\n",
    "    print(num,\" isn't Amstrong\")"
   ]
  },
  {
   "cell_type": "code",
   "execution_count": 15,
   "id": "955e891a-1a59-4bb5-9d23-1ca5725ace4b",
   "metadata": {},
   "outputs": [
    {
     "name": "stdin",
     "output_type": "stream",
     "text": [
      "Enter a String He is very handsome@%^&%^\n"
     ]
    },
    {
     "name": "stdout",
     "output_type": "stream",
     "text": [
      "He is very handsome\n"
     ]
    }
   ],
   "source": [
    "\"\"\"\n",
    "Bài 8: Viết chương trình loại bỏ các ký tự không phải là ký tự CHỮ CÁI và SỐ trong một chuỗi. \n",
    "          Ví dụ: Từ st1 = \"He is very handsome@%^&%^\" \n",
    "                     Trích thành chuỗi st2 = \"He is very handsome“\n",
    "\"\"\"\n",
    "st1 = \"\"\"!()-[]{};:\"\"\\,<>./?@#$%^&*_~\"\"\"\n",
    "my_str = input(\"Enter a String\")\n",
    "st2 = \"\"\n",
    "for char in my_str:\n",
    "    if char not in st1:\n",
    "        st2 += char\n",
    "print(st2)\n"
   ]
  },
  {
   "cell_type": "code",
   "execution_count": 22,
   "id": "f146703f-15bd-40eb-93db-599a4e9db623",
   "metadata": {},
   "outputs": [
    {
     "name": "stdin",
     "output_type": "stream",
     "text": [
      "Enter a number 7\n",
      "Enter a number 4\n",
      "Enter a number 5\n",
      "Enter a number done\n"
     ]
    },
    {
     "name": "stdout",
     "output_type": "stream",
     "text": [
      "Average is :  5.333333333333333\n"
     ]
    }
   ],
   "source": [
    "\"\"\"\n",
    "Bài 10: Viết Chương trình nhập các số từ bàn phím. In ra giá trị trung bình\n",
    "\"\"\"\n",
    "total = 0\n",
    "count = 0\n",
    "while (True):\n",
    "    inp = input(\"Enter a number\")\n",
    "    if inp == \"done\":\n",
    "        break\n",
    "    value = float(inp)\n",
    "    total += value\n",
    "    count += 1\n",
    "Average = total / count\n",
    "print(\"Average is : \",Average)"
   ]
  },
  {
   "cell_type": "code",
   "execution_count": 19,
   "id": "80623bdc-70a1-4e89-9a24-c8c2c33145f0",
   "metadata": {},
   "outputs": [
    {
     "name": "stdin",
     "output_type": "stream",
     "text": [
      "Enter a string :  cat dog apple banana\n"
     ]
    },
    {
     "name": "stdout",
     "output_type": "stream",
     "text": [
      "the words have been separated and arranged aphabetically : \n",
      "apple\n",
      "banana\n",
      "cat\n",
      "dog\n"
     ]
    }
   ],
   "source": [
    "\"\"\"\n",
    "Bài 9: Viết chương trình tách từ thành 1 danh sách và sắp xếp các từ theo alphabe. \n",
    "\"\"\"\n",
    "st = input(\"Enter a string : \")\n",
    "ds = st.split()\n",
    "ds.sort()\n",
    "print(\"the words have been separated and arranged aphabetically : \")\n",
    "for tu in ds:\n",
    "    print(tu)"
   ]
  },
  {
   "cell_type": "markdown",
   "id": "8e1031c2-505a-478d-8c1e-88f4fd2109a5",
   "metadata": {},
   "source": [
    "\"\"\"\n",
    "Bài 11: Viết Chương trình nhập các số từ bàn phím, các giá trị này lưu vào danh sách. Sau đó, in ra giá trị trung bình.\n",
    "\"\"\"\n",
    "numlist = ()\n",
    "while (True):\n",
    "    inp = input(\"Enter a number\")\n",
    "    if inp == \"done\":\n",
    "        break\n",
    "    value = float(inp)\n",
    "    numlist.addpend(value)\n",
    "Average = sum(numlist) / len(numlist)\n",
    "print(\"Average is : \",Average)\n",
    "    "
   ]
  },
  {
   "cell_type": "code",
   "execution_count": 26,
   "id": "4765cf9a-a973-4dea-953e-3e962a3bac2b",
   "metadata": {},
   "outputs": [
    {
     "name": "stdin",
     "output_type": "stream",
     "text": [
      "Enter a number 7\n",
      "Enter a number 4\n",
      "Enter a number 5\n",
      "Enter a number done\n"
     ]
    },
    {
     "name": "stdout",
     "output_type": "stream",
     "text": [
      "Average is :  5.333333333333333\n"
     ]
    }
   ],
   "source": [
    "numlist = list()\n",
    "while (True):\n",
    "    inp = input(\"Enter a number\")\n",
    "    if inp == \"done\": break\n",
    "    value = float(inp)\n",
    "    numlist.append(value)\n",
    "Average = sum(numlist) / len(numlist)\n",
    "print(\"Average is : \",Average)"
   ]
  },
  {
   "cell_type": "code",
   "execution_count": 30,
   "id": "5cf9b84a-06ac-437c-a2e2-f8e1f196a331",
   "metadata": {},
   "outputs": [
    {
     "name": "stdout",
     "output_type": "stream",
     "text": [
      "2002,2009,2016,2023,2037,2044,2051,2058,2072,2079,2086,2093,2107,2114,2121,2128,2142,2149,2156,2163,2177,2184,2191,2198,2212,2219,2226,2233,2247,2254,2261,2268,2282,2289,2296,2303,2317,2324,2331,2338,2352,2359,2366,2373,2387,2394,2401,2408,2422,2429,2436,2443,2457,2464,2471,2478,2492,2499,2506,2513,2527,2534,2541,2548,2562,2569,2576,2583,2597,2604,2611,2618,2632,2639,2646,2653,2667,2674,2681,2688,2702,2709,2716,2723,2737,2744,2751,2758,2772,2779,2786,2793,2807,2814,2821,2828,2842,2849,2856,2863,2877,2884,2891,2898,2912,2919,2926,2933,2947,2954,2961,2968,2982,2989,2996,3003,3017,3024,3031,3038,3052,3059,3066,3073,3087,3094,3101,3108,3122,3129,3136,3143,3157,3164,3171,3178,3192,3199\n"
     ]
    }
   ],
   "source": [
    "\"\"\"\n",
    "Bài 12: Viết chương trình tìm tất cả các số chia hết cho 7 nhưng không phải bội số của 5, nằm trong đoạn 2000 và 3200 (tính cả 2000 và 3200). Các số thu được sẽ được lưu vào 1 danh sách sau đó in thành chuỗi trên một dòng, cách nhau bằng dấu phẩy.\n",
    "\"\"\"\n",
    "numlist = list()\n",
    "for n in range(2000,3201):\n",
    "    if (n % 7 == 0) and (n % 5 != 0):\n",
    "        numlist.append(str(n))\n",
    "print(\",\".join(numlist))\n",
    "        "
   ]
  },
  {
   "cell_type": "code",
   "execution_count": 1,
   "id": "1aba594b-7ebd-416e-9843-9dbcd4054cb0",
   "metadata": {},
   "outputs": [
    {
     "name": "stdin",
     "output_type": "stream",
     "text": [
      "Enter a sring :  Hello\n",
      "Enter a sring :  Everyone\n",
      "Enter a sring :  \n"
     ]
    },
    {
     "name": "stdout",
     "output_type": "stream",
     "text": [
      "HELLO\n",
      "EVERYONE\n"
     ]
    }
   ],
   "source": [
    "\"\"\"\n",
    "Bài 13: Viết một chương trình cho phép người dung nhập vào một chuỗi trên nhiều dòng, sau đó chuyển các dòng này thành chữ in hoa và in ra màn hình. Yêu cầu:\n",
    "\"\"\"\n",
    "lines = []\n",
    "while (True):\n",
    "    st = input(\"Enter a sring : \")\n",
    "    if st:\n",
    "        lines.append(st.upper())\n",
    "    else:\n",
    "        break\n",
    "for i in lines:\n",
    "    print(i)\n",
    "                "
   ]
  },
  {
   "cell_type": "code",
   "execution_count": 6,
   "id": "6502046d-d83e-40df-ad05-5c05ff1edad3",
   "metadata": {},
   "outputs": [
    {
     "name": "stdout",
     "output_type": "stream",
     "text": [
      "100,102,104,106,108,110,112,114,116,118,120,122,124,126,128,130,132,134,136,138,140,142,144,146,148,150,152,154,156,158,160,162,164,166,168,170,172,174,176,178,180,182,184,186,188,190,192,194,196,198,200,202,204,206,208,210,212,214,216,218,220,222,224,226,228,230,232,234,236,238,240,242,244,246,248,250,252,254,256,258,260,262,264,266,268,270,272,274,276,278,280,282,284,286,288,290,292,294,296,298,300\n"
     ]
    }
   ],
   "source": [
    "\"\"\"\n",
    "Bài 14: Viết một chương trình tìm tất cả các số trong đoạn 100 và 300 (tính cả 2 số này) sao cho tất cả các chữ số trong số đó là số chẵn. In các số tìm được thành chuỗi cách nhau bởi dấu phẩy, trên một dòng. \n",
    "\"\"\"\n",
    "List = []\n",
    "for i in range(100,301):\n",
    "    if i % 2 == 0:\n",
    "        List.append(str(i))\n",
    "    else:\n",
    "        pass\n",
    "print(\",\".join(List))"
   ]
  },
  {
   "cell_type": "code",
   "execution_count": 10,
   "id": "4145cd54-35cb-4b2a-ad8e-933e57ded61f",
   "metadata": {},
   "outputs": [
    {
     "name": "stdin",
     "output_type": "stream",
     "text": [
      "Enter a string :  36,36,36\n"
     ]
    },
    {
     "name": "stdout",
     "output_type": "stream",
     "text": [
      "['36', '36', '36']\n",
      "('36', '36', '36')\n"
     ]
    }
   ],
   "source": [
    "\"\"\"\n",
    "Bài 15: Viết chương trình nhập một chuỗi số, phân tách bằng dấu phẩy. In ra một danh sách và một tuple chứa mọi số.\n",
    "Ví dụ: Đầu vào được cung cấp là 34,67,55,33,12,98 thì đầu ra là:\n",
    "[\"34\", \"67\", \"55\", \"33\", \"12\", \"98\"]\u000b",
    "(\"34\", \"67\", \"55\", \"33\", \"12\", \"98\")\n",
    "\"\"\"\n",
    "st = input(\"Enter a string : \")\n",
    "List = st.split(\",\")\n",
    "Tuple = tuple(List)\n",
    "print(List)\n",
    "print(Tuple)"
   ]
  },
  {
   "cell_type": "code",
   "execution_count": 12,
   "id": "db50331e-ef5a-45e1-8081-d96bdee7ea40",
   "metadata": {},
   "outputs": [
    {
     "name": "stdin",
     "output_type": "stream",
     "text": [
      "Enter a number :  7\n"
     ]
    },
    {
     "name": "stdout",
     "output_type": "stream",
     "text": [
      "{1: 1, 2: 4, 3: 27, 4: 256, 5: 3125, 6: 46656, 7: 823543}\n"
     ]
    }
   ],
   "source": [
    "\"\"\"\n",
    "Bài 16: Tạo ra một tự điển, có n phần tử, các khóa là từ 1 đến n và giá trị tương ứng là bình phương của khóa. Sau đó in từ điển ra màn hình\n",
    "\"\"\"\n",
    "n = int(input(\"Enter a number : \"))\n",
    "d = dict()\n",
    "for i in range(1,n+1):\n",
    "    d[i] = i**i\n",
    "print(d)"
   ]
  },
  {
   "cell_type": "code",
   "execution_count": 15,
   "id": "e77fec17-48d7-42de-82fb-ce6536f48653",
   "metadata": {},
   "outputs": [
    {
     "name": "stdin",
     "output_type": "stream",
     "text": [
      "Enter a sentence :  43h35k3h435\n"
     ]
    },
    {
     "name": "stdout",
     "output_type": "stream",
     "text": [
      "number of letters is :  3\n",
      "number of digits is :  8\n"
     ]
    }
   ],
   "source": [
    "\"\"\"\n",
    "Bài 17: Sử dụng cấu trúc từ điển, viết một chương trình nhập một câu, in số chữ cái và chữ số trong câu đó.\n",
    "\"\"\"\n",
    "st = input(\"Enter a sentence : \")\n",
    "d = {\"letters\" : 0,\"digits\" : 0}\n",
    "for i in st:\n",
    "    if i.isalpha():\n",
    "        d[\"letters\"] += 1\n",
    "    elif i.isdigit():\n",
    "        d[\"digits\"] += 1\n",
    "    else:\n",
    "        pass\n",
    "print(\"number of letters is : \", d[\"letters\"])\n",
    "print(\"number of digits is : \", d[\"digits\"])\n"
   ]
  },
  {
   "cell_type": "code",
   "execution_count": 16,
   "id": "9b455cf7-11ca-438e-b6b3-7a4e389d3251",
   "metadata": {},
   "outputs": [
    {
     "name": "stdin",
     "output_type": "stream",
     "text": [
      "Enter a sentence :  HudfdsKDfdjslf\n"
     ]
    },
    {
     "name": "stdout",
     "output_type": "stream",
     "text": [
      "number of upper character is :  3\n",
      "number of lower character is :  11\n"
     ]
    }
   ],
   "source": [
    "\"\"\"\n",
    "Bài 18: Sử dụng cấu trúc từ điển, viết một chương trình nhập một câu, in số chữ hoa và số chữ thường trong câu đó.\n",
    "\"\"\"\n",
    "st = input(\"Enter a sentence : \")\n",
    "d = {\"upper\" : 0,\"lower\" :0}\n",
    "for i in st:\n",
    "    if i.isupper():\n",
    "        d[\"upper\"] += 1\n",
    "    elif i.islower():\n",
    "        d[\"lower\"] += 1\n",
    "    else:\n",
    "        pass\n",
    "print(\"number of upper character is : \", d[\"upper\"])\n",
    "print(\"number of lower character is : \", d[\"lower\"])"
   ]
  },
  {
   "cell_type": "code",
   "execution_count": 19,
   "id": "7f5a30b8-7177-46dc-a4cb-4e939dbf571f",
   "metadata": {},
   "outputs": [
    {
     "name": "stdout",
     "output_type": "stream",
     "text": [
      "the 11\n",
      "a 7\n",
      "that 6\n",
      "to 5\n",
      "he 5\n",
      "didnâ€™t 4\n",
      "Romeo 4\n",
      "of 3\n",
      "not 3\n",
      "like 3\n"
     ]
    }
   ],
   "source": [
    "\"\"\"\n",
    "Bài 19: Hiển thị 10 từ có tuần suất xuất hiện nhiều nhất(phổ biến nhất)\n",
    "\"\"\"\n",
    "ftext = open(\"romeo.txt\")\n",
    "tu_dien_cac_tu = {}\n",
    "\n",
    "for dong in ftext:\n",
    "    danh_sach_tu = dong.split()\n",
    "    for tu in danh_sach_tu:\n",
    "        tu_dien_cac_tu[tu] = tu_dien_cac_tu.get(tu, 0) + 1\n",
    "\n",
    "danh_sach = []\n",
    "for key, val in tu_dien_cac_tu.items():\n",
    "    newtup = (val, key)\n",
    "    danh_sach.append(newtup)\n",
    "\n",
    "danh_sach = sorted(danh_sach, reverse=True)\n",
    "\n",
    "for val, key in danh_sach[:10]:\n",
    "    print(key, val)\n"
   ]
  },
  {
   "cell_type": "code",
   "execution_count": 24,
   "id": "7779c6aa-84de-49b4-9fc6-6a4b81a04c39",
   "metadata": {},
   "outputs": [
    {
     "name": "stdin",
     "output_type": "stream",
     "text": [
      "Enter a number :  5\n"
     ]
    },
    {
     "name": "stdout",
     "output_type": "stream",
     "text": [
      "the result of factorial 5 is : 120\n"
     ]
    }
   ],
   "source": [
    "\"\"\"\n",
    "Bài 20: Viết một chương trình tính và in kết quả giai thừa của một số nhập vào từ bàn phím. \n",
    "\"\"\"\n",
    "x = int(input(\"Enter a number : \"))\n",
    "def factorial(x):\n",
    "    fact = 1\n",
    "    for i in range(1,x+1):\n",
    "        fact *= i\n",
    "    print(f\"the result of factorial {x} is : {fact}\")\n",
    "factorial(x)"
   ]
  },
  {
   "cell_type": "code",
   "execution_count": 27,
   "id": "a9e3b547-e374-4318-b0d3-ea4a8839c5aa",
   "metadata": {},
   "outputs": [
    {
     "name": "stdout",
     "output_type": "stream",
     "text": [
      "[1, 4, 9, 16, 25, 36, 49, 64, 81, 100, 121, 144, 169, 196, 225, 256, 289, 324, 361, 400]\n"
     ]
    }
   ],
   "source": [
    "\"\"\"\n",
    "Bài 21: Định nghĩa một hàm có thể tạo và in list chứa các giá trị bình phương của các số từ 1 đến 20 (tính cả 1 và 20). Sau đó thực thi hàm.\n",
    "\"\"\"\n",
    "def DS():\n",
    "    ds = list()\n",
    "    for i in range(1,21):\n",
    "        ds.append(i**2)\n",
    "    print(ds)\n",
    "DS()"
   ]
  },
  {
   "cell_type": "code",
   "execution_count": 31,
   "id": "a7135896-655f-4196-9c40-ce54da9ce051",
   "metadata": {},
   "outputs": [
    {
     "name": "stdout",
     "output_type": "stream",
     "text": [
      "[1, 4, 9, 16, 25, 256, 289, 324, 361, 400]\n"
     ]
    }
   ],
   "source": [
    "\"\"\"\n",
    "Bài 22: Định nghĩa một hàm có thể tạo danh sách chứa các giá trị bình phương của các số từ 1 đến 20 (bao gồm cả 1 và 20) và in 5 phần tử đầu tiên cùng với 5 phần tử cuối cùng trong danh sách.\n",
    "Gợi ý:\n",
    "Sử dụng toán tử ** để lấy giá trị bình phương.\n",
    "Sử dụng range() cho vòng lặp.\n",
    "Sử dụng phương thức append() để thêm giá trị vào danh sách.\n",
    "Sử dụng [n1:n2] để trích danh sách và in\n",
    "\"\"\"\n",
    "def func():\n",
    "    ds = list()\n",
    "    for i in range(1,21):\n",
    "        ds.append(i**2)\n",
    "    print(ds[:5] + ds[-5:])\n",
    "func()"
   ]
  },
  {
   "cell_type": "code",
   "execution_count": 47,
   "id": "d1c342f4-bcf9-467d-9893-0bd45c3020c9",
   "metadata": {},
   "outputs": [
    {
     "name": "stdin",
     "output_type": "stream",
     "text": [
      "Enter a number :  4\n"
     ]
    },
    {
     "name": "stdout",
     "output_type": "stream",
     "text": [
      "4 is a even number\n"
     ]
    }
   ],
   "source": [
    "\"\"\"\n",
    "Bài 23: Định nghĩa một hàm Check_chan(n) kiểm tra một số có phải là số chẵn hay không. Yêu cầu:\n",
    "Hàm được luu vào tệp Kiem_tra.py\n",
    "Tạo tệp Test.py để sử dụng hàm này nhằm kiểm tra một số nhập vào từ bàn phím có phải là số chẳn hay không.\n",
    "\"\"\"\n",
    "from Test import *\n",
    "n = int(input(\"Enter a number : \"))\n",
    "Check_chan(n)"
   ]
  },
  {
   "cell_type": "code",
   "execution_count": 55,
   "id": "ca97b9b7-4cb8-407c-bb4c-f165de259e5c",
   "metadata": {},
   "outputs": [
    {
     "name": "stdin",
     "output_type": "stream",
     "text": [
      "Enter a String a:  asdad\n",
      "Enter a String b:  ads\n"
     ]
    },
    {
     "name": "stdout",
     "output_type": "stream",
     "text": [
      "String_a greater than String_b\n"
     ]
    }
   ],
   "source": [
    "\"\"\"\n",
    "Bài 24: Định nghĩa một hàm có đầu vào là 2 chuỗi và in chuỗi có độ dài lớn hơn trong giao diện điều khiển. Nếu 2 chuỗi có chiều dài như nhau thì in tất cả các chuỗi theo dòng. Yêu cầu:\n",
    "Hàm được luu vào tệp So_Sanh_Chuoi.py\n",
    "Tạo tệp Test.py để sử dụng hàm này nhằm kiểm tra 2 chuỗi và in ra kết quả.\n",
    "\"\"\"\n",
    "from So_Sanh_Chuoi import *\n",
    "a = input(\"Enter a String a: \")\n",
    "b = input(\"Enter a String b: \")\n",
    "So_Sanh_Chuoi(a, b)"
   ]
  },
  {
   "cell_type": "code",
   "execution_count": 4,
   "id": "0a26398d-69b2-454b-a2e8-e20b5b85b6ae",
   "metadata": {},
   "outputs": [
    {
     "name": "stdin",
     "output_type": "stream",
     "text": [
      "Enter a number :  4\n"
     ]
    },
    {
     "name": "stdout",
     "output_type": "stream",
     "text": [
      "Keys and values of Dictionary is : \n",
      "1 1\n",
      "2 4\n",
      "3 9\n",
      "4 16\n",
      "Keys of Dictionary is : \n",
      "1\n",
      "2\n",
      "3\n",
      "4\n",
      "Values of Dictionary is : \n",
      "1\n",
      "4\n",
      "9\n",
      "16\n"
     ]
    }
   ],
   "source": [
    "\"\"\"\n",
    "Bài 25: Tạo tệp tu_dien.py để định nghĩa:\n",
    "               - 01 hàm Tao_TD(Max) để tạo 1 từ điển, chứa các key là số từ 1 đến Max (số Max nhập vào từ bàn phím) và các giá trị là bình phương của key. \n",
    "               - 01 Hàm Print_Item(TD) để in các phần tử của từ điển.\n",
    "               - 01 Hàm Print_Key(TD) để in các giá trị của các phần tử từ điển\n",
    "               - 01 Hàm Print_Value(TD) để in giá trị của các phần tử từ điển \n",
    "               - Tạo tệp Test_TD.py để sử dụng các hàm này.\n",
    "\"\"\"\n",
    "from Tu_dien import *\n",
    "Max = int(input(\"Enter a number : \"))\n",
    "TD = Tao_TD(Max)\n",
    "print(\"Keys and values of Dictionary is : \")\n",
    "Print_Item(TD)\n",
    "print(\"Keys of Dictionary is : \")\n",
    "Print_Key(TD)\n",
    "print(\"Values of Dictionary is : \")\n",
    "Print_Value(TD)\n"
   ]
  },
  {
   "cell_type": "code",
   "execution_count": 7,
   "id": "75682316-f623-4fef-b7c3-d2c8dbb1d262",
   "metadata": {},
   "outputs": [
    {
     "name": "stdin",
     "output_type": "stream",
     "text": [
      "Enter a character A\n"
     ]
    },
    {
     "name": "stdout",
     "output_type": "stream",
     "text": [
      "a is a vowel\n"
     ]
    }
   ],
   "source": [
    "\"\"\"\n",
    "Bài 26: Viết một chương trình đọc một chữ cái từ người dùng. \n",
    "Nếu người dùng nhập a, e, i, o hoặc u thì chương trình hiển thị một thông báo cho biết rằng chữ cái đã nhập là nguyên âm (xét ngôn ngữ Anh).\n",
    "Nếu người dùng nhập y thì chương trình sẽ hiển thị một thông báo cho biết  có thể y là nguyên âm  hoặc phụ âm. \n",
    "Nếu không phải các trường hợp trên, chương trình sẽ hiển thị một thông báo cho biết rằng chữ cái là phụ âm\n",
    "\"\"\"\n",
    "char = input(\"Enter a character\").lower()\n",
    "if char in \"ueoai\":\n",
    "    print(char,\"is a vowel\")\n",
    "elif char == \"y\":\n",
    "    print(\"y can be a vowel or a consonant.\")\n",
    "else:\n",
    "    print(char,\"is a consonant\")"
   ]
  },
  {
   "cell_type": "code",
   "execution_count": 9,
   "id": "ab5fc706-a994-45af-b49e-0411577cf6c3",
   "metadata": {},
   "outputs": [
    {
     "name": "stdin",
     "output_type": "stream",
     "text": [
      "Enter the number of edges :  5\n"
     ]
    },
    {
     "name": "stdout",
     "output_type": "stream",
     "text": [
      "The shape with 5 edge is a Pentagon\n"
     ]
    }
   ],
   "source": [
    "\"\"\"\n",
    "Bài 27: Viết chương trình xác định tên của hình dạng dựa trên số cạnh của nó. Ví dụ, nhập số 3 thì là hình tam giác, 4 hình tứ giác ,... \n",
    "Yêu cầu: Chương trình hỗ trợ các hình dạng từ 3 đến 10 cạnh. \n",
    "Nếu số cạnh vượt ra bên ngoài phạm vi này thì chương trình sẽ hiển thị thông báo lỗi thích hợp\n",
    "\"\"\"\n",
    "edge = int(input(\"Enter the number of edges : \"))\n",
    "shapes = {\n",
    "    3: \"Triangle\",\n",
    "    4: \"Quadrilateral\",\n",
    "    5: \"Pentagon\",\n",
    "    6: \"Hexagon\",\n",
    "    7: \"Heptagon\",\n",
    "    8: \"Octagon\",\n",
    "    9: \"Nonagon\",\n",
    "    10: \"Decagon\"\n",
    "}\n",
    "if edge in shapes:\n",
    "    print(f\"The shape with {edge} edge is a {shapes[edge]}\")\n",
    "else:\n",
    "    print(\"Error\")"
   ]
  },
  {
   "cell_type": "code",
   "execution_count": 15,
   "id": "e49d45d6-35c2-4886-8ce1-9c1846cfa5a6",
   "metadata": {},
   "outputs": [
    {
     "name": "stdin",
     "output_type": "stream",
     "text": [
      "Enter a month :  August\n"
     ]
    },
    {
     "name": "stdout",
     "output_type": "stream",
     "text": [
      "august has 31 days\n"
     ]
    }
   ],
   "source": [
    "\"\"\"\n",
    "Bài 28: Số ngày của một tháng thay đổi từ 28 đến 31 ngày. \n",
    "Viết một chương trình đọc tên của một tháng từ người dùng dưới dạng một chuỗi.\n",
    "Sau đó, chương trình sẽ hiển thị số ngày trong tháng đó (Chú ý: Số ngày là  28 hoặc 29 ngày để biểu diễn cho tháng 2).\n",
    "\"\"\"\n",
    "inp = input(\"Enter a month : \").lower()\n",
    "month = {\n",
    "    \"january\" : \"31\",\n",
    "    \"february\" : \"28 or 29\" ,\n",
    "    \"march\" : \"31\",\n",
    "    \"april\" : \"30\",\n",
    "    \"may\" : \"31\",\n",
    "    \"june\" : \"30\",\n",
    "    \"july\" : \"31\",\n",
    "    \"august\" : \"31\",\n",
    "    \"september\" : \"30\",\n",
    "    \"october\" : \"31\",\n",
    "    \"november\" : \"30\",\n",
    "    \"december\" : \"31\"\n",
    "}\n",
    "if inp in month:\n",
    "    print(f\"{inp} has {month[inp]} days\")\n",
    "else:\n",
    "    print(\"Error\")"
   ]
  },
  {
   "cell_type": "code",
   "execution_count": 16,
   "id": "536e920a-9ccd-4f4e-a1b7-51d9d915bb9c",
   "metadata": {},
   "outputs": [
    {
     "name": "stdin",
     "output_type": "stream",
     "text": [
      "Enter side a:  7\n",
      "Enter side b:  7\n",
      "Enter side c:  5\n"
     ]
    },
    {
     "name": "stdout",
     "output_type": "stream",
     "text": [
      "This is an isosceles triangle.\n"
     ]
    }
   ],
   "source": [
    "\"\"\"\n",
    "Bài 29: Một hình tam giác có thể được phân loại dựa trên độ dài của các cạnh của nó. \n",
    "Tất cả ba cạnh của một tam giác đều có cùng độ dài. \n",
    "Một tam giác cân có hai cạnh có cùng độ dài và một cạnh thứ ba có độ dài khác nhau,...\n",
    "Viết chương trình đọc độ dài ba cạnh của một tam giác từ người dùng. Sau đó hiển thị một thông báo cho biết loại tam giác.\n",
    "\"\"\"\n",
    "a = float(input(\"Enter side a: \"))\n",
    "b = float(input(\"Enter side b: \"))\n",
    "c = float(input(\"Enter side c: \"))\n",
    "\n",
    "if a + b <= c or a + c <= b or b + c <= a:\n",
    "    print(\"These sides do not form a triangle.\")\n",
    "else:\n",
    "    if a == b == c:\n",
    "        print(\"This is an equilateral triangle.\")  \n",
    "    elif a == b or a == c or b == c:\n",
    "        print(\"This is an isosceles triangle.\")     \n",
    "    else:\n",
    "        print(\"This is a scalene triangle.\")        \n",
    "\n",
    "\n",
    "\n"
   ]
  },
  {
   "cell_type": "code",
   "execution_count": 19,
   "id": "29daf6d0-b485-423f-a7f8-7a1fa9951946",
   "metadata": {},
   "outputs": [
    {
     "name": "stdin",
     "output_type": "stream",
     "text": [
      "Enter any year:  1900\n"
     ]
    },
    {
     "name": "stdout",
     "output_type": "stream",
     "text": [
      "1900 is not a leap year\n"
     ]
    }
   ],
   "source": [
    "\"\"\"\n",
    "Bài 30: Hầu hết các năm có 365 ngày. Tuy nhiên, thời gian cần thiết để Trái đất quay quanh Mặt trời thực sự nhiều hơn thế một chút. \n",
    "Do đó, thêm một ngày, ngày 29 tháng 2, được đưa vào một số năm để khắc phục sự khác biệt này. Những năm như vậy được gọi là năm nhuận. \n",
    "Các quy tắc để xác định xem một năm có phải là năm nhuận hay không:\n",
    "Bất kỳ năm nào chia hết cho 400 là một năm nhuận.\n",
    "Trong số các năm còn lại, bất kỳ năm nào chia hết cho 100 không phải là năm nhuận.\n",
    "Trong số các năm còn lại, bất kỳ năm nào chia hết cho 4 là một năm nhuận.\n",
    "Tất cả các năm khác không phải là năm nhuận.\n",
    "Viết chương trình đọc một năm từ người dùng và hiển thị thông báo cho biết đó có phải là năm nhuận hay không\n",
    "\"\"\"\n",
    "year = int(input(\"Enter any year: \"))\n",
    "\n",
    "if year % 400 == 0:\n",
    "    print(year, \"is a leap year\")\n",
    "elif year % 100 == 0:\n",
    "    print(year, \"is not a leap year\")\n",
    "elif year % 4 == 0:\n",
    "    print(year, \"is a leap year\")\n",
    "else:\n",
    "    print(year, \"is not a leap year\")\n",
    "\n",
    "    "
   ]
  },
  {
   "cell_type": "code",
   "execution_count": 23,
   "id": "c17d055b-bb47-42e9-ac02-c48227e4b645",
   "metadata": {},
   "outputs": [
    {
     "name": "stdin",
     "output_type": "stream",
     "text": [
      "Enter your message:  I Love You\n"
     ]
    },
    {
     "name": "stdout",
     "output_type": "stream",
     "text": [
      "Encrypted message: L Oryh Brx\n"
     ]
    }
   ],
   "source": [
    "\"\"\"\n",
    "Bài 31: Một trong những ví dụ đầu tiên về mã hóa được Julius Caesar sử dụng. Ý tưởng mật mã này rất đơn giản: \n",
    "Mỗi chữ cái trong tin nhắn gốc được dịch chuyển 3 vị trí, tức là A chuyển thành D, B chuyển thành E, C chuyển thành F, D chuyển thành G, v.v.\n",
    "Tương tự, 03 chữ cái cuối cùng trong bảng chữ cái được thay thế: X chuyển thành A, Y chuyển thành B và Z chuyển thành C. \n",
    "Các ký tự không phải chữ cái thì giữ nguyên.\n",
    "Viết chương trình thực hiện mật mã Caesar, cho phép người dùng nhập vào một tin nhắn và sau đó hiển thị tin nhắn đã được mã hóa. Đảm bảo rằng chương trình mã hóa cả chữ hoa và chữ thường. \n",
    "\n",
    "\"\"\"\n",
    "message = input(\"Enter your message: \")\n",
    "encrypted = \"\"\n",
    "\n",
    "for char in message:\n",
    "    if char.isupper(): \n",
    "        encrypted += chr((ord(char) - 65 + 3) % 26 + 65)\n",
    "    elif char.islower():  \n",
    "        encrypted += chr((ord(char) - 97 + 3) % 26 + 97)\n",
    "    else:\n",
    "        encrypted += char  \n",
    "print(\"Encrypted message:\", encrypted)\n"
   ]
  },
  {
   "cell_type": "code",
   "execution_count": 24,
   "id": "4dc559a0-bfa2-433a-913b-3c4c539a7c71",
   "metadata": {},
   "outputs": [
    {
     "name": "stdin",
     "output_type": "stream",
     "text": [
      "Enter your message:  Huann Lee\n",
      "Enter shift value (e.g., 3):  7\n",
      "Enter mode ('encrypt' or 'decrypt'):  decrypt\n"
     ]
    },
    {
     "name": "stdout",
     "output_type": "stream",
     "text": [
      "Result (decrypted message): Antgg Exx\n"
     ]
    }
   ],
   "source": [
    "\"\"\"\n",
    "Bài 32: Mở rộng viết chương trình mã hóa mã Caesar, cho phép người dùng cung cấp tin nhắn và sau đó hiển thị tin nhắn đã được mã hóa. \n",
    "Chương trình cũng hỗ trợ giải mã (chuyển ngược lại) để có thể sử dụng cả hai chức năng: mã hóa tin nhắn và giải mã tin nhắn. \n",
    "Và số ký tự dịch chuyển do người dùng nhập.\n",
    "\"\"\"\n",
    "\n",
    "def caesar_cipher(text, shift, mode):\n",
    "    result = \"\"\n",
    "\n",
    "    for char in text:\n",
    "        if char.isupper():\n",
    "            base = 65  # 'A'\n",
    "            if mode == \"decrypt\":\n",
    "                result += chr((ord(char) - base - shift) % 26 + base)\n",
    "            else:\n",
    "                result += chr((ord(char) - base + shift) % 26 + base)\n",
    "        elif char.islower():\n",
    "            base = 97  # 'a'\n",
    "            if mode == \"decrypt\":\n",
    "                result += chr((ord(char) - base - shift) % 26 + base)\n",
    "            else:\n",
    "                result += chr((ord(char) - base + shift) % 26 + base)\n",
    "        else:\n",
    "            result += char  \n",
    "\n",
    "    return result\n",
    "\n",
    "\n",
    "message = input(\"Enter your message: \")\n",
    "shift = int(input(\"Enter shift value : \"))\n",
    "mode = input(\"Enter mode ('encrypt' or 'decrypt'): \").lower()\n",
    "\n",
    "if mode not in [\"encrypt\", \"decrypt\"]:\n",
    "    print(\"Invalid mode! Please choose 'encrypt' or 'decrypt'.\")\n",
    "else:\n",
    "    output = caesar_cipher(message, shift, mode)\n",
    "    print(f\"Result ({mode}ed message): {output}\")\n"
   ]
  },
  {
   "cell_type": "code",
   "execution_count": 29,
   "id": "68f25940-4449-46a4-9b02-1fc7694f3b65",
   "metadata": {},
   "outputs": [
    {
     "name": "stdin",
     "output_type": "stream",
     "text": [
      "Enter a String :  fdfdf\n"
     ]
    },
    {
     "name": "stdout",
     "output_type": "stream",
     "text": [
      "fdfdf is a palindrom\n"
     ]
    }
   ],
   "source": [
    "\"\"\"\n",
    "Bài 33: Kiểm tra một chuỗi có phải là Palindrom không? \n",
    "Gợi ý: Một chuỗi là một palindrom nếu nó chứa 2 chuỗi con đối xứng giống nhau. Ví dụ: “anna”, “civic”, “level” và “hannah” \n",
    "Viết chương trình đọc một chuỗi từ người dùng và sử dụng một vòng lặp để xác định xem đó có phải là một Palindrom hay không. Hiển thị kết quả, bao gồm một thông báo đầu ra có ý nghĩa.\n",
    "\"\"\"\n",
    "st = input(\"Enter a String : \")\n",
    "palindrom = \"\"\n",
    "for i in st:\n",
    "    palindrom = i + palindrom\n",
    "if st == palindrom:\n",
    "    print(st,\"is a palindrom\")\n",
    "else:\n",
    "    print(st,\"isn't a palindrom\")"
   ]
  },
  {
   "cell_type": "code",
   "execution_count": 31,
   "id": "ee6ffb6e-8e34-4784-9b24-bb69badc69b8",
   "metadata": {},
   "outputs": [
    {
     "name": "stdin",
     "output_type": "stream",
     "text": [
      "Enter a number:  10\n"
     ]
    },
    {
     "name": "stdout",
     "output_type": "stream",
     "text": [
      "Binary number is: 1010\n"
     ]
    }
   ],
   "source": [
    "\"\"\"\n",
    "Bài 34: Viết chương trình chuyển đổi số thập phân thành nhị phân. Đọc số thập phân từ người dùng dưới dạng số nguyên. Hiển thị kết quả, cùng với một thông điệp thích hợp.\n",
    "\"\"\"\n",
    "num = int(input(\"Enter a number: \"))\n",
    "binary_number = \"\"\n",
    "quotient = num\n",
    "\n",
    "while quotient > 0:\n",
    "    remainder = quotient % 2\n",
    "    binary_number = str(remainder) + binary_number  # thêm bit vào đầu\n",
    "    quotient = quotient // 2\n",
    "\n",
    "print(\"Binary number is:\", binary_number)\n",
    "\n",
    "    "
   ]
  },
  {
   "cell_type": "code",
   "execution_count": 34,
   "id": "2323964a-cc2f-40e3-8fb5-24334d15db65",
   "metadata": {},
   "outputs": [
    {
     "name": "stdin",
     "output_type": "stream",
     "text": [
      "Enter string of number :  43,2,5,6\n"
     ]
    },
    {
     "name": "stdout",
     "output_type": "stream",
     "text": [
      "43,5\n"
     ]
    }
   ],
   "source": [
    "\"\"\"\n",
    "Bài 35: Viết một chương trình tạo ra một danh sách các số lẻ từ các số được người dùng nhập vào. \n",
    "Giả sử đầu vào là: 1,2,3,4,5,6,7,8,9 thì đầu ra phải là: 1,3,5,7,9\n",
    "\"\"\"\n",
    "inp = input(\"Enter string of number : \")\n",
    "lis = inp.split(\",\")\n",
    "DS = []\n",
    "for i in lis:\n",
    "    if int(i) % 2 == 1:\n",
    "        DS.append(i)\n",
    "print(\",\".join(DS))\n",
    "        "
   ]
  },
  {
   "cell_type": "code",
   "execution_count": 35,
   "id": "47f55a14-c299-44b2-97c6-23c2f1ea6a7d",
   "metadata": {},
   "outputs": [
    {
     "name": "stdin",
     "output_type": "stream",
     "text": [
      "Enter a integer 7\n",
      "Enter a integer 4\n",
      "Enter a integer 3\n",
      "Enter a integer 8\n",
      "Enter a integer 9\n",
      "Enter a integer 0\n"
     ]
    },
    {
     "name": "stdout",
     "output_type": "stream",
     "text": [
      "3\n",
      "4\n",
      "7\n",
      "8\n",
      "9\n"
     ]
    }
   ],
   "source": [
    "\"\"\"\n",
    "Bài 36: Viết chương trình đọc các số nguyên từ người dùng và lưu trữ chúng trong danh sách. \n",
    "Chương trình sẽ tiếp tục đọc các giá trị cho đến khi người dùng nhập ký tự 0. \n",
    "Sau đó, nó sẽ hiển thị tất cả các giá trị được nhập bởi người dùng (ngoại trừ 0) theo thứ tự tăng dần, với một giá trị xuất hiện trên mỗi dòng. \n",
    "Sử dụng phương thức sắp xếp hoặc hàm được sắp xếp để sắp xếp danh sách.\n",
    "\"\"\"\n",
    "DS = []\n",
    "while (True):\n",
    "    inp = int(input(\"Enter a integer\"))\n",
    "    if inp == 0:\n",
    "        break\n",
    "    DS.append(inp)\n",
    "DS.sort()\n",
    "for i in DS:\n",
    "    print(i)\n"
   ]
  },
  {
   "cell_type": "code",
   "execution_count": 43,
   "id": "ce03f9ce-5313-4568-8fbd-216dfa36dfac",
   "metadata": {},
   "outputs": [
    {
     "name": "stdin",
     "output_type": "stream",
     "text": [
      "Enter a word Hello\n",
      "Enter a word World\n",
      "Enter a word Hello\n",
      "Enter a word \n"
     ]
    },
    {
     "name": "stdout",
     "output_type": "stream",
     "text": [
      "Hello\n",
      "World\n"
     ]
    }
   ],
   "source": [
    "\"\"\"\n",
    "Bài 37: Tạo một chương trình đọc các từ của người dùng cho đến khi người dùng nhập vào một dòng trống.\n",
    "Sau khi người dùng nhập vào một dòng trống, chương trình sẽ hiển thị từng từ do người dùng nhập sau khi loại bỏ từ bị trùng.\n",
    "Các từ phải được hiển thị theo thứ tự mà chúng được nhập vào. \n",
    "Ví dụ: nếu người dùng nhập:\n",
    "first\n",
    "second\n",
    "first\n",
    "third\n",
    "second\n",
    "Sau đó chương trình sẽ hiển thị:\n",
    "first \n",
    "second \n",
    "third\n",
    "\"\"\"\n",
    "DS = []\n",
    "while (True):\n",
    "    st = input(\"Enter a word\")\n",
    "    if st:\n",
    "        if st not in DS:\n",
    "           DS.append(st)\n",
    "    else:\n",
    "        break\n",
    "for i in DS:\n",
    "    print(i)"
   ]
  },
  {
   "cell_type": "code",
   "execution_count": 51,
   "id": "0c93d906-3945-486b-8ac2-702213c5630b",
   "metadata": {},
   "outputs": [
    {
     "name": "stdin",
     "output_type": "stream",
     "text": [
      "Enter a integer :  4\n",
      "Enter a integer :  2\n",
      "Enter a integer :  6\n",
      "Enter a integer :  1\n",
      "Enter a integer :  -1\n",
      "Enter a integer :  0\n",
      "Enter a integer :  \n"
     ]
    },
    {
     "name": "stdout",
     "output_type": "stream",
     "text": [
      "-1,0,1,2,4,6\n"
     ]
    }
   ],
   "source": [
    "\"\"\"\n",
    "Bài 38: Tạo một chương trình đọc số nguyên từ người dùng cho đến khi một dòng trống được nhập.\n",
    "Khi tất cả các số nguyên đã được đọc, chương trình sẽ hiển thị theo quy tắt: tất cả các số âm, theo sau là tất cả các số không, theo sau là tất cả các số dương.\n",
    "Trong mỗi nhóm, các số phải được hiển thị theo cùng thứ tự mà người dùng đã nhập. \n",
    "Ví dụ: nếu người dùng nhập các giá trị: 3, -4, 1, 0, -1, 0 và -2 \n",
    "Thì chương trình sẽ xuất các giá trị: -4, -1, -2, 0, 0, 3 và 1.\n",
    "\"\"\"\n",
    "DS = []\n",
    "while (True):\n",
    "    inte = input(\"Enter a integer : \")\n",
    "    if inte == \"\":\n",
    "        break\n",
    "    DS.append(inte)\n",
    "DS.sort()\n",
    "sort = \",\".join(DS)\n",
    "print(sort)"
   ]
  },
  {
   "cell_type": "code",
   "execution_count": 53,
   "id": "1f8f2227-ce89-48e6-8fd0-da42a0d8f6a4",
   "metadata": {},
   "outputs": [
    {
     "name": "stdin",
     "output_type": "stream",
     "text": [
      "Enter a integer :  8\n"
     ]
    },
    {
     "name": "stdout",
     "output_type": "stream",
     "text": [
      "{1: 1, 2: 4, 3: 9, 4: 16, 5: 25, 6: 36, 7: 49, 8: 64}\n"
     ]
    }
   ],
   "source": [
    "\"\"\"\n",
    "Bài 39: Với số nguyên n nhất định, hãy viết chương trình tạo ra một dictionary chứa (i, i*i) với i là số nguyên từ 1 đến n (bao gồm cả 1 và n) sau đó in ra dictionary này. \n",
    "Ví dụ: Giả sử số n là 8 thì đầu ra sẽ là: {1: 1, 2: 4, 3: 9, 4: 16, 5: 25, 6: 36, 7: 49, 8: 64}.\n",
    "\"\"\"\n",
    "n = int(input(\"Enter a integer : \"))\n",
    "d = dict()\n",
    "for i in range(1,n+1):\n",
    "    d[i] =i*i\n",
    "print(d)"
   ]
  },
  {
   "cell_type": "code",
   "execution_count": 55,
   "id": "7fb969af-5a9c-4bc1-b2b6-67f5dc3b7d6e",
   "metadata": {},
   "outputs": [
    {
     "name": "stdout",
     "output_type": "stream",
     "text": [
      "(1, 2, 3, 4, 5)\n",
      "(6, 7, 8, 9, 10)\n"
     ]
    }
   ],
   "source": [
    "\"\"\"\n",
    "Bài 40: Với tuple (1,2,3,4,5,6,7,8,9,10) cho trước, viết một chương trình in một nửa phần tử đầu tiên trong 1 dòng và 1 nửa phần tử còn lại trong 1 dòng\n",
    "\"\"\"\n",
    "tup = (1,2,3,4,5,6,7,8,9,10)\n",
    "print(tup[:5])\n",
    "print(tup[-5:])"
   ]
  },
  {
   "cell_type": "code",
   "execution_count": 56,
   "id": "931d0bf8-34f8-4223-bd53-4f613f4c209e",
   "metadata": {},
   "outputs": [
    {
     "name": "stdout",
     "output_type": "stream",
     "text": [
      "(2, 4, 6, 8, 10)\n"
     ]
    }
   ],
   "source": [
    "\"\"\"\n",
    "Bài 41: Viết một chương trình để tạo tuple chứa các phần tử là số chẵn từ một tuple (1,2,3,4,5,6,7,8,9,10) cho trước. \n",
    "\"\"\"\n",
    "tup = (1,2,3,4,5,6,7,8,9,10)\n",
    "list_even = []\n",
    "for i in tup:\n",
    "    if i % 2 == 0:\n",
    "        list_even.append(i)\n",
    "tup_even = tuple(list_even)\n",
    "print(tup_even)"
   ]
  },
  {
   "cell_type": "code",
   "execution_count": 57,
   "id": "d24c3d3f-f02b-4094-8ca8-38853aa7565c",
   "metadata": {},
   "outputs": [
    {
     "name": "stdout",
     "output_type": "stream",
     "text": [
      "40320\n"
     ]
    }
   ],
   "source": [
    "\"\"\"\n",
    "Bài 42: Viết một chương trình có thể tính giai thừa của một số cho trước. \n",
    "Kết quả được in thành chuỗi trên một dòng, phân tách bởi dấu phẩy. \n",
    "Ví dụ, số cho trước là 8 thì kết quả đầu ra phải là 40320. Yêu cầu: định nghĩa hàm tính giai thừa\n",
    "\"\"\"\n",
    "def factorial(x):\n",
    "    Sum = 1\n",
    "    for i in range(1,x+1):\n",
    "        Sum *= i\n",
    "    print(Sum)\n",
    "x = 8\n",
    "factorial(x)"
   ]
  },
  {
   "cell_type": "code",
   "execution_count": 59,
   "id": "673b935f-60be-4355-8655-8f1700b35fee",
   "metadata": {},
   "outputs": [
    {
     "name": "stdin",
     "output_type": "stream",
     "text": [
      "Enter first string :  Hello\n",
      "Enter second string :  Worldd\n"
     ]
    },
    {
     "name": "stdout",
     "output_type": "stream",
     "text": [
      "Worldd\n"
     ]
    }
   ],
   "source": [
    "\"\"\"\n",
    "Bài 43: Định nghĩa một hàm có đầu vào là 2 chuỗi và in chuỗi có độ dài lớn hơn. \n",
    "Nếu 2 chuỗi có chiều dài như nhau thì in tất cả các chuỗi theo dòng. \n",
    "Sử dụng hàm len() để lấy chiều dài của một chuỗi.\n",
    "\"\"\"\n",
    "def Compare_2_String(a,b):\n",
    "    if len(a) > len(b):\n",
    "        print(a)\n",
    "    elif len(a) < len(b):\n",
    "        print(b)\n",
    "    else:\n",
    "        print(a)\n",
    "        print(b)\n",
    "st1 = input(\"Enter first string : \")\n",
    "st2 = input(\"Enter second string : \")\n",
    "Compare_2_String(st1,st2)"
   ]
  },
  {
   "cell_type": "code",
   "execution_count": 61,
   "id": "bf227503-dfe2-45db-b75c-d9262dbc838d",
   "metadata": {},
   "outputs": [
    {
     "name": "stdout",
     "output_type": "stream",
     "text": [
      "[1, 4, 9, 16, 25, 36, 49, 64, 81, 100, 121, 144, 169, 196, 225, 256, 289, 324, 361, 400]\n"
     ]
    }
   ],
   "source": [
    "\"\"\"\n",
    "Bài 44: Định nghĩa một hàm có thể tạo và in danh sách chứa các giá trị bình phương của các số từ 1 đến 20 (tính cả 1 và 20).\n",
    "Yêu cầu: Sử dụng toán tử ** để lấy giá trị bình phương; \n",
    "Sử dụng range() cho vòng lặp; Sử dụng list.append() để thêm giá trị vào danh sách.\n",
    "\"\"\"\n",
    "def Tao_DS():\n",
    "    DS = []\n",
    "    for i in range(1,21):\n",
    "        DS.append(i**2)\n",
    "    print(DS)\n",
    "Tao_DS()"
   ]
  },
  {
   "cell_type": "code",
   "execution_count": 62,
   "id": "c8c1b326-95a4-4064-9bc5-8979fc4d5f23",
   "metadata": {},
   "outputs": [
    {
     "name": "stdout",
     "output_type": "stream",
     "text": [
      "[1, 4, 9, 16, 25]\n"
     ]
    }
   ],
   "source": [
    "\"\"\"\n",
    "Bài 45: Định nghĩa một hàm có thể tạo danh sách chứa các giá trị bình phương của các số từ 1 đến 20 (bao gồm cả 1 và 20) và in 5 phần tử đầu tiên trong danh sách. \n",
    "Yêu cầu: Sử dụng toán tử ** để lấy giá trị bình phương;\n",
    "Sử dụng range() cho vòng lặp; Sử dụng list.append() để thêm phần tử vào danh sách; Sử dụng [n1:n2] để cắt danh sách.\n",
    "\"\"\"\n",
    "def Tao_DS():\n",
    "    DS = []\n",
    "    for i in range(1,21):\n",
    "        DS.append(i**2)\n",
    "    print(DS[:5])\n",
    "Tao_DS()"
   ]
  },
  {
   "cell_type": "code",
   "execution_count": 63,
   "id": "7a2ff5aa-ec17-4165-a5fa-6ccdabcf7195",
   "metadata": {},
   "outputs": [
    {
     "name": "stdout",
     "output_type": "stream",
     "text": [
      "[256, 289, 324, 361, 400]\n"
     ]
    }
   ],
   "source": [
    "\"\"\"\n",
    "Bài 46: Định nghĩa một hàm có thể tạo ra một danh sách chứa các giá trị bình phương của các số từ 1 đến 20 (bao gồm cả 1 và 20), rồi in 5 phần tử cuối cùng trong danh sách. \n",
    "\"\"\"\n",
    "def Tao_DS():\n",
    "    DS = []\n",
    "    for i in range(1,21):\n",
    "        DS.append(i**2)\n",
    "    print(DS[-5:])\n",
    "Tao_DS()"
   ]
  },
  {
   "cell_type": "code",
   "execution_count": 65,
   "id": "44a6740d-04b0-4cfe-a429-c64cbf4ab97f",
   "metadata": {},
   "outputs": [
    {
     "name": "stdout",
     "output_type": "stream",
     "text": [
      "[36, 49, 64, 81, 100, 121, 144, 169, 196, 225, 256, 289, 324, 361, 400]\n"
     ]
    }
   ],
   "source": [
    "\"\"\"\n",
    "Bài 47: Định nghĩa một hàm có thể tạo danh sách chứa giá trị bình phương của các số từ 1 đến 20 (bao gồm cả 1 và 20). Sau đó in tất cả các giá trị của danh sách trừ 5 phần tử đầu tiên.\n",
    "\"\"\"\n",
    "def Tao_DS():\n",
    "    DS = []\n",
    "    for i in range(1,21):\n",
    "        DS.append(i**2)\n",
    "    print(DS[5:])\n",
    "Tao_DS()"
   ]
  },
  {
   "cell_type": "code",
   "execution_count": 68,
   "id": "53d1965c-6f54-4890-9fcb-d988080c0592",
   "metadata": {},
   "outputs": [
    {
     "name": "stdin",
     "output_type": "stream",
     "text": [
      "a =  3\n",
      "b =  4\n",
      "c =  5\n"
     ]
    },
    {
     "data": {
      "text/plain": [
       "4.0"
      ]
     },
     "execution_count": 68,
     "metadata": {},
     "output_type": "execute_result"
    }
   ],
   "source": [
    "\"\"\"\n",
    "Bài 48: Viết hàm có 03 tham số và trả về giá trị trung bình của các tham số đó. \n",
    "Bao gồm một chương trình chính đọc ba giá trị từ người dùng và hiển thị giá trị trung bình của chúng.\n",
    "\"\"\"\n",
    "def func(a,b,c):\n",
    "    Average = (a+b+c)/3\n",
    "    return Average\n",
    "a = float(input(\"a = \"))\n",
    "b = float(input(\"b = \"))\n",
    "c = float(input(\"c = \"))\n",
    "func(a,b,c)"
   ]
  },
  {
   "cell_type": "code",
   "execution_count": 88,
   "id": "9686f459-d09b-4643-a9b6-d21389747882",
   "metadata": {},
   "outputs": [
    {
     "name": "stdin",
     "output_type": "stream",
     "text": [
      "Enter an integer:  7\n"
     ]
    },
    {
     "name": "stdout",
     "output_type": "stream",
     "text": [
      "7 is a prime number.\n"
     ]
    }
   ],
   "source": [
    "\"\"\"\n",
    "Bài 49: Số nguyên tố là một số nguyên lớn hơn 1 và chỉ chia hết cho 1 và chính nó. \n",
    "Viết hàm xác định tham số của nó có phải là số nguyên tố hay không, trả về True nếu đúng và False nếu không phải. \n",
    "Viết chương trình chính đọc số nguyên từ người dùng và hiển thị thông báo cho biết đó có phải là số nguyên tố hay không.\n",
    "\"\"\"\n",
    "def is_prime(n):\n",
    "    if n <= 1:\n",
    "        return False\n",
    "    for i in range(2, int(n**0.5) + 1): \n",
    "        if n % i == 0:\n",
    "            return False\n",
    "    return True\n",
    "\n",
    "num = int(input(\"Enter an integer: \"))\n",
    "\n",
    "if is_prime(num):\n",
    "    print(f\"{num} is a prime number.\")\n",
    "else:\n",
    "    print(f\"{num} is not a prime number.\")\n",
    "\n",
    "    "
   ]
  },
  {
   "cell_type": "code",
   "execution_count": 85,
   "id": "36c4454e-3efa-4a82-b0f2-8a2598e380ee",
   "metadata": {},
   "outputs": [
    {
     "name": "stdout",
     "output_type": "stream",
     "text": [
      "random password is : VN,9sUr,\n"
     ]
    }
   ],
   "source": [
    "\"\"\"\n",
    "Bài 50: Viết hàm không có tham số để tạo mật khẩu ngẫu nhiên. \n",
    "Mật khẩu phải có độ dài ngẫu nhiên từ 7 đến 10 ký tự.\n",
    "Mỗi ký tự phải được chọn ngẫu nhiên từ các vị trí 33 đến 126 trong bảng ASCII.\n",
    "Hàm sẽ trả về mật khẩu được tạo ngẫu nhiên. Hiển thị mật khẩu được tạo ngẫu nhiên trong chương trình chính.\n",
    "\"\"\"\n",
    "import random\n",
    "def Create_Random_Password():\n",
    "    length = random.randint(7,10)\n",
    "    password = \"\"\n",
    "    for i in range(length):\n",
    "        password += chr(random.randint(33,126))\n",
    "    return password\n",
    "pw = Create_Random_Password()\n",
    "print(\"random password is :\" , pw)\n",
    "    "
   ]
  },
  {
   "cell_type": "code",
   "execution_count": 73,
   "id": "64e40c3d-89e6-4457-a917-c5bf3fa155f7",
   "metadata": {},
   "outputs": [
    {
     "name": "stdin",
     "output_type": "stream",
     "text": [
      "Enter Password :  HuannLee45\n"
     ]
    },
    {
     "name": "stdout",
     "output_type": "stream",
     "text": [
      "This is a good password\n"
     ]
    }
   ],
   "source": [
    "\"\"\"\n",
    "Bài 51: Viết một hàm có một tham số password để xác định xem mật khẩu có tốt hay không. \n",
    "Một mật khẩu tốt là một mật khẩu dài ít nhất 8 ký tự và chứa ít nhất một chữ cái viết hoa, ít nhất một chữ cái viết thường và ít nhất một số. \n",
    "Hàm sẽ trả về True nếu mật khẩu là tốt, ngược thì nó sẽ trả về Fales. \n",
    "Chương trình có một chương trình chính đọc mật khẩu từ người dùng và hiển thị xem nó có tốt hay không.\n",
    "\"\"\"\n",
    "def Check_Password(pw):\n",
    "    if len(pw) <8:\n",
    "        return False\n",
    "    upper = False\n",
    "    lower = False\n",
    "    digit = False\n",
    "    for i in pw:\n",
    "        if i.isupper():\n",
    "            upper = True\n",
    "        elif i.islower():\n",
    "            lower = True\n",
    "        elif i.isdigit():\n",
    "            digit = True\n",
    "        else:\n",
    "            pass\n",
    "    if upper and lower and digit:\n",
    "        return True\n",
    "    else:\n",
    "        return False\n",
    "pw = input(\"Enter Password : \")\n",
    "check = Check_Password(pw)\n",
    "if check:\n",
    "    print(\"This is a good password\")\n",
    "else:\n",
    "    print(\"This is a bad password\")"
   ]
  },
  {
   "cell_type": "code",
   "execution_count": 78,
   "id": "da9ce71b-3bc4-4346-9fe2-dcbb0a578aad",
   "metadata": {},
   "outputs": [
    {
     "name": "stdin",
     "output_type": "stream",
     "text": [
      "Enter a number 7\n"
     ]
    },
    {
     "name": "stdout",
     "output_type": "stream",
     "text": [
      "8 isn't a perfectly number\n",
      "[6, 28, 496, 8128]\n"
     ]
    }
   ],
   "source": [
    "\"\"\"\n",
    "Bài 52: Một số nguyên, n, được cho là hoàn hảo khi tổng của tất cả các ước số của n bằng n. \n",
    "Ví dụ, 28 là một số hoàn hảo vì các ước số của nó là 1, 2, 4, 7 và 14. Tổng 1 + 2 + 4 + 7 + 14 = 28.\n",
    "Viết hàm xác định xem số nguyên dương có hoàn hảo hay không. \n",
    "\"\"\"\n",
    "def Check_Perfect(x):\n",
    "    DS = []\n",
    "    for i in range(1, x//2 + 1):\n",
    "        if x % i == 0:\n",
    "            DS.append(i)\n",
    "    Sum = sum(DS)\n",
    "    if Sum == x:\n",
    "        return True\n",
    "    else:\n",
    "        return False\n",
    "def Check_1to10000():\n",
    "    ds = []\n",
    "    for i in range(1,10001):\n",
    "        if Check_Perfect(i):\n",
    "           ds.append(i)\n",
    "    print(ds)\n",
    "inp = int(input(\"Enter a number\"))\n",
    "check = Check_Perfect(inp)\n",
    "if check:\n",
    "    print(f\"{x} is a perfectly number\")\n",
    "else:\n",
    "    print(f\"{x} isn't a perfectly number\")\n",
    "Check_1to10000()"
   ]
  },
  {
   "cell_type": "code",
   "execution_count": 81,
   "id": "43c3efb3-5e4d-475f-ae9d-e69087ae0c7c",
   "metadata": {},
   "outputs": [
    {
     "name": "stdout",
     "output_type": "stream",
     "text": [
      "[[], [1], [2], [1, 2], [3], [1, 3], [2, 3], [1, 2, 3]]\n"
     ]
    }
   ],
   "source": [
    "\"\"\"\n",
    "Bài 53: Viết một hàm trả về một danh sách chứa mọi danh sách con có thể có của danh sách.\n",
    "Ví dụ: danh sách con của [1, 2, 3] là [], [1], [2], [3], [1, 2], [2, 3] và [1, 2, 3].\n",
    "\"\"\"\n",
    "def all_sublists(lst):\n",
    "    n = len(lst)\n",
    "    sublists = []\n",
    "    for i in range(2 ** n):\n",
    "        sub = []\n",
    "        for j in range(n):\n",
    "            if i & (1 << j): \n",
    "                sub.append(lst[j])\n",
    "        sublists.append(sub)\n",
    "    return sublists\n",
    "\n",
    "\n",
    "numbers = [1, 2, 3]\n",
    "print(all_sublists(numbers))\n",
    "\n",
    "        \n",
    "    "
   ]
  },
  {
   "cell_type": "code",
   "execution_count": 87,
   "id": "7411b375-f2d5-48f5-930d-6d5eec021fe3",
   "metadata": {},
   "outputs": [
    {
     "name": "stdin",
     "output_type": "stream",
     "text": [
      "Enter a word:  Hello\n",
      "Enter a word:  World\n",
      "Enter a word:  hh\n",
      "Enter a word:  \n"
     ]
    },
    {
     "name": "stdout",
     "output_type": "stream",
     "text": [
      "Formatted result: Hello, World and hh\n"
     ]
    }
   ],
   "source": [
    "\"\"\"\n",
    "Bài 54: Khi viết ra một danh sách các từ bằng tiếng Anh, người ta thường phân tách các từ bằng dấu phẩy. Ngoài ra, thêm từ “and” trước từ cuối cùng, trừ khi danh sách chỉ chứa một từ. Hãy xem xét bốn danh sách sau đây:\n",
    "\tapples \n",
    "\tapples and oranges \n",
    "\tapples, oranges and bananas \n",
    "\tapples, oranges, bananas and lemons\n",
    "Viết hàm lấy danh sách các chuỗi làm tham số của nó. Hàm sẽ trả về một chuỗi chứa tất cả các từ trong danh sách, được định dạng theo cách được mô tả như trên. Hàm hoạt động cho danh sách có độ dài bất kỳ. Code bao gồm một chương trình chính đọc một số từ do người dùng nhập vào, định dạng chúng bằng cách gọi hàm và sau đó hiển thị kết quả mà hàm trả về\n",
    "\"\"\"\n",
    "def format_list(words):\n",
    "    if len(words) == 0:\n",
    "        return \"\"\n",
    "    elif len(words) == 1:\n",
    "        return words[0]\n",
    "    elif len(words) == 2:\n",
    "        return f\"{words[0]} and {words[1]}\"\n",
    "    else:\n",
    "        return f\"{', '.join(words[:-1])} and {words[-1]}\"\n",
    "\n",
    "words = []\n",
    "while True:\n",
    "    w = input(\"Enter a word: \")\n",
    "    if w == \"\":\n",
    "        break\n",
    "    words.append(w)\n",
    "\n",
    "formatted = format_list(words)\n",
    "print(\"Formatted result:\", formatted)\n"
   ]
  },
  {
   "cell_type": "code",
   "execution_count": null,
   "id": "e3edba30-db5b-47cc-b3c9-953521c4f543",
   "metadata": {},
   "outputs": [],
   "source": [
    "\"\"\"\n",
    "Bài 55. Tệp nén là một loại lưu trữ chứa một hoặc nhiều tệp đã bị giảm kích thước. \n",
    "Nén tập tin trong các hệ điều hành hiện đại thường khá đơn giản. \n",
    "Viết chương trình nén và giải nén tệp bằng Python\n",
    "\"\"\""
   ]
  }
 ],
 "metadata": {
  "kernelspec": {
   "display_name": "Python 3 (ipykernel)",
   "language": "python",
   "name": "python3"
  },
  "language_info": {
   "codemirror_mode": {
    "name": "ipython",
    "version": 3
   },
   "file_extension": ".py",
   "mimetype": "text/x-python",
   "name": "python",
   "nbconvert_exporter": "python",
   "pygments_lexer": "ipython3",
   "version": "3.13.5"
  }
 },
 "nbformat": 4,
 "nbformat_minor": 5
}
