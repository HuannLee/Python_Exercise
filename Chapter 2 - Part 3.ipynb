{
 "cells": [
  {
   "cell_type": "code",
   "execution_count": 3,
   "id": "dda9b917-8fc1-4c41-bc3f-f91935a829b1",
   "metadata": {},
   "outputs": [
    {
     "name": "stdout",
     "output_type": "stream",
     "text": [
      "File alice.txt Not Found\n"
     ]
    }
   ],
   "source": [
    "\"\"\"\n",
    "Bài 1: Xử lý ngoại lệ FileNotFoundError:\n",
    "Lỗi này xuất hiện khi mở 1 file mà không tồn tại. Không tồn tại có thể do file chưa được tạo hoặc đường dẫn đến file không đúng.\n",
    "\"\"\"\n",
    "filename = \"alice.txt\"\n",
    "try:\n",
    "    with open(filename) as file:\n",
    "        contents = file.read()\n",
    "except FileNotFoundError:\n",
    "    message = \"File \" + filename + \" Not Found\"\n",
    "    print(message)"
   ]
  },
  {
   "cell_type": "code",
   "execution_count": 4,
   "id": "7cd500e3-55a6-4c1b-9126-d8ee83dd9b9e",
   "metadata": {},
   "outputs": [
    {
     "name": "stdout",
     "output_type": "stream",
     "text": [
      "File romeo.txt have 209 words\n"
     ]
    }
   ],
   "source": [
    "\"\"\"\n",
    "Bài 2: về xử lý ngoại lệ FileNotFoundError khi thực hiện chương trình đếm số từ trong file text\n",
    "\"\"\"\n",
    "filename = \"romeo.txt\"\n",
    "try:\n",
    "    with open(filename) as file:\n",
    "        contents = file.read()\n",
    "except FileNotFoundError:\n",
    "    msg = \"File \" + filename + \" Not Found\"\n",
    "    print(msg)\n",
    "else:\n",
    "    words = contents.split()\n",
    "    num_words = len(words)\n",
    "    print(\"File \" + filename + \" have \" + str(num_words) + \" words\")"
   ]
  },
  {
   "cell_type": "code",
   "execution_count": 6,
   "id": "4269fd84-e5c6-4bfb-8f61-bd3454a298c3",
   "metadata": {},
   "outputs": [
    {
     "name": "stdout",
     "output_type": "stream",
     "text": [
      "File romeo.txt Not Found\n",
      "File romeo.txt have 209 words\n"
     ]
    }
   ],
   "source": [
    "\"\"\"\n",
    "Bài 3: về thực hiện chương trình đếm số từ trong nhiều file text\n",
    "\"\"\"\n",
    "def count_words(file):\n",
    "    try:\n",
    "        with open(file) as file:\n",
    "            contents = file.read()\n",
    "    except FileNotFoundError:\n",
    "        msg = \"File \" + filename + \" Not Found\"\n",
    "        print(msg)\n",
    "    else:\n",
    "        words = contents.split()\n",
    "        num_words = len(words)\n",
    "        print(\"File \" + filename + \" have \" + str(num_words) + \" words\")\n",
    "filenames = [\"alice.txt\",\"romeo.txt\"]\n",
    "for i in filenames:\n",
    "    count_words(i)"
   ]
  },
  {
   "cell_type": "code",
   "execution_count": 7,
   "id": "c647d981-c270-4a27-97eb-9d38cf12c408",
   "metadata": {},
   "outputs": [
    {
     "name": "stdout",
     "output_type": "stream",
     "text": [
      "1. Nén tệp\n",
      "2. Giải nén tệp\n"
     ]
    },
    {
     "name": "stdin",
     "output_type": "stream",
     "text": [
      "Chọn (1 hoặc 2):  1\n",
      "Nhập tên file cần nén (vd: test.txt):  romeo.txt\n",
      "Nhập tên file zip muốn tạo (vd: test.zip):  romeo\n"
     ]
    },
    {
     "name": "stdout",
     "output_type": "stream",
     "text": [
      "✅ Đã nén 'romeo.txt' thành 'romeo'\n"
     ]
    }
   ],
   "source": [
    "\"\"\"\n",
    "Bài 4. Tệp nén là một loại lưu trữ chứa một hoặc nhiều tệp đã bị giảm kích thước. Nén tập tin trong các hệ điều hành hiện đại thường khá đơn giản. Viết chương trình nén và giải nén tệp bằng Python\n",
    "\"\"\"\n",
    "import zipfile\n",
    "import os\n",
    "\n",
    "def compress_file(input_file, output_zip):\n",
    "    with zipfile.ZipFile(output_zip, 'w', zipfile.ZIP_DEFLATED) as zipf:\n",
    "        zipf.write(input_file, os.path.basename(input_file))\n",
    "    print(f\"✅ Đã nén '{input_file}' thành '{output_zip}'\")\n",
    "\n",
    "def decompress_file(zip_file, extract_path):\n",
    "    with zipfile.ZipFile(zip_file, 'r') as zipf:\n",
    "        zipf.extractall(extract_path)\n",
    "    print(f\"✅ Đã giải nén '{zip_file}' vào thư mục '{extract_path}'\")\n",
    "\n",
    "print(\"1. Nén tệp\")\n",
    "print(\"2. Giải nén tệp\")\n",
    "choice = input(\"Chọn (1 hoặc 2): \")\n",
    "\n",
    "if choice == \"1\":\n",
    "    input_file = input(\"Nhập tên file cần nén (vd: test.txt): \")\n",
    "    output_zip = input(\"Nhập tên file zip muốn tạo (vd: test.zip): \")\n",
    "    compress_file(input_file, output_zip)\n",
    "\n",
    "elif choice == \"2\":\n",
    "    zip_file = input(\"Nhập tên file zip cần giải nén (vd: test.zip): \")\n",
    "    extract_path = input(\"Nhập thư mục để giải nén vào (vd: ./output): \")\n",
    "    decompress_file(zip_file, extract_path)\n",
    "\n",
    "else:\n",
    "    print(\"Lựa chọn không hợp lệ.\")\n"
   ]
  },
  {
   "cell_type": "code",
   "execution_count": null,
   "id": "539f71f6-3afd-4cd7-98f7-8a98d466da73",
   "metadata": {},
   "outputs": [],
   "source": []
  }
 ],
 "metadata": {
  "kernelspec": {
   "display_name": "Python 3 (ipykernel)",
   "language": "python",
   "name": "python3"
  },
  "language_info": {
   "codemirror_mode": {
    "name": "ipython",
    "version": 3
   },
   "file_extension": ".py",
   "mimetype": "text/x-python",
   "name": "python",
   "nbconvert_exporter": "python",
   "pygments_lexer": "ipython3",
   "version": "3.13.5"
  }
 },
 "nbformat": 4,
 "nbformat_minor": 5
}
